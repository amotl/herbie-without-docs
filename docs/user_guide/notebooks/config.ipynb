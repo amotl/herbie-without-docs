{
 "cells": [
  {
   "cell_type": "markdown",
   "id": "253457f3-0764-45d8-91ab-19e7323d2fbc",
   "metadata": {},
   "source": [
    "**Brian Blaylock**  \n",
    "*August 3, 2021*\n",
    "\n",
    "# 🛠 Herbie configuration\n",
    "Configuration settings are stored in the `${HOME}/.config/herbie/config.toml` file and includes default values for\n",
    "- save_dir\n",
    "- priority\n",
    "\n",
    "Learn more about the TOML file here: https://toml.io/en/."
   ]
  },
  {
   "cell_type": "code",
   "execution_count": 1,
   "id": "7da56c73-84d4-41b6-9b55-fc7aad6e9219",
   "metadata": {},
   "outputs": [],
   "source": [
    "import toml\n",
    "from herbie import config, _config_path"
   ]
  },
  {
   "cell_type": "code",
   "execution_count": 2,
   "id": "6f906b43-5ded-4a35-b6cc-48236393c552",
   "metadata": {},
   "outputs": [
    {
     "data": {
      "text/plain": [
       "PosixPath('/p/home/blaylock/.config/herbie/config.toml')"
      ]
     },
     "execution_count": 2,
     "metadata": {},
     "output_type": "execute_result"
    }
   ],
   "source": [
    "# Where is the config file located?\n",
    "_config_path"
   ]
  },
  {
   "cell_type": "markdown",
   "id": "34a74e04-5731-4ebd-8434-fc34c51b7e26",
   "metadata": {},
   "source": [
    "Print the values of the config file"
   ]
  },
  {
   "cell_type": "code",
   "execution_count": 3,
   "id": "c3130859-e922-41b7-b1a5-3706fc81bcf0",
   "metadata": {},
   "outputs": [
    {
     "data": {
      "text/plain": [
       "{'default': {'save_dir': PosixPath('/p/cwfs/blaylock/data'),\n",
       "  'priority': ['aws', 'nomads', 'google', 'azure', 'pando', 'pando2']}}"
      ]
     },
     "execution_count": 3,
     "metadata": {},
     "output_type": "execute_result"
    }
   ],
   "source": [
    "# A list of settings as a dict\n",
    "config"
   ]
  },
  {
   "cell_type": "code",
   "execution_count": 4,
   "id": "e6a8988d-7ecd-4016-8728-5c417e374774",
   "metadata": {},
   "outputs": [
    {
     "name": "stdout",
     "output_type": "stream",
     "text": [
      "[default]\n",
      "save_dir = \"/p/cwfs/blaylock/data\"\n",
      "priority = [ \"aws\", \"nomads\", \"google\", \"azure\", \"pando\", \"pando2\",]\n",
      "\n"
     ]
    }
   ],
   "source": [
    "# Show the config in TOML format\n",
    "# (use the correct encoder to get pathlib.Path as a string\n",
    "print(toml.dumps(config, encoder=toml.TomlPathlibEncoder()))"
   ]
  },
  {
   "cell_type": "code",
   "execution_count": 5,
   "id": "d8ab359c-9fc2-45ef-b191-cbe371f72450",
   "metadata": {},
   "outputs": [
    {
     "data": {
      "text/plain": [
       "{'default': {'save_dir': '${CENTER}/data',\n",
       "  'priority': ['aws', 'nomads', 'google', 'azure', 'pando', 'pando2']}}"
      ]
     },
     "execution_count": 5,
     "metadata": {},
     "output_type": "execute_result"
    }
   ],
   "source": [
    "# Read a TOML file\n",
    "toml.load(_config_path)"
   ]
  },
  {
   "cell_type": "code",
   "execution_count": null,
   "id": "6ac434ce-7434-4046-a06b-eb2243819c2e",
   "metadata": {},
   "outputs": [],
   "source": []
  }
 ],
 "metadata": {
  "kernelspec": {
   "display_name": "Python 3",
   "language": "python",
   "name": "python3"
  },
  "language_info": {
   "codemirror_mode": {
    "name": "ipython",
    "version": 3
   },
   "file_extension": ".py",
   "mimetype": "text/x-python",
   "name": "python",
   "nbconvert_exporter": "python",
   "pygments_lexer": "ipython3",
   "version": "3.8.8"
  }
 },
 "nbformat": 4,
 "nbformat_minor": 5
}

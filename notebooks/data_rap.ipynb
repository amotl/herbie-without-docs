{
 "cells": [
  {
   "cell_type": "markdown",
   "id": "f168804a-2c0d-4dd7-8b1c-5d909c889452",
   "metadata": {},
   "source": [
    "**Brian Blaylock**  \n",
    "*July 20, 2021*\n",
    "\n",
    "# RAP Data\n",
    "\n",
    "There are different products available on the cloud."
   ]
  },
  {
   "cell_type": "code",
   "execution_count": null,
   "id": "b4cba677-7674-47d6-8dde-2d297b138c57",
   "metadata": {},
   "outputs": [],
   "source": [
    "from herbie.archive import Herbie\n",
    "from toolbox.cartopy_tools import common_features, pc\n",
    "from paint.standard2 import cm_tmp\n",
    "\n",
    "import matplotlib.pyplot as plt\n",
    "import cartopy.crs as ccrs"
   ]
  },
  {
   "cell_type": "code",
   "execution_count": 4,
   "id": "6384df86-fc73-4496-a138-5f227535b6d6",
   "metadata": {},
   "outputs": [
    {
     "name": "stdout",
     "output_type": "stream",
     "text": [
      "🏋🏻‍♂️ Found \u001b[32m2021-Jul-19 00:00 UTC F00\u001b[m RAP awp130pgrb GRIB2 file from \u001b[38;5;202mnomads\u001b[m and index file from \u001b[38;5;202mnomads\u001b[m.                                                                                                     \n"
     ]
    }
   ],
   "source": [
    "H = Herbie(DATE='2021-07-19', \n",
    "           model='rap', \n",
    "           field='awp130pgrb')"
   ]
  },
  {
   "cell_type": "code",
   "execution_count": 6,
   "id": "119c9742-4514-4abf-bba5-b74354352537",
   "metadata": {},
   "outputs": [
    {
     "data": {
      "text/plain": [
       "'https://noaa-hrrr-bdp-pds.s3.amazonaws.com/rap.20210719/rap.t00z.awp130pgrbf00.grib2'"
      ]
     },
     "execution_count": 6,
     "metadata": {},
     "output_type": "execute_result"
    }
   ],
   "source": [
    "H.get_url(source='aws')"
   ]
  },
  {
   "cell_type": "code",
   "execution_count": null,
   "id": "2f93e016-4ec8-4410-923d-c071d7faebad",
   "metadata": {},
   "outputs": [],
   "source": []
  }
 ],
 "metadata": {
  "kernelspec": {
   "display_name": "Python 3",
   "language": "python",
   "name": "python3"
  },
  "language_info": {
   "codemirror_mode": {
    "name": "ipython",
    "version": 3
   },
   "file_extension": ".py",
   "mimetype": "text/x-python",
   "name": "python",
   "nbconvert_exporter": "python",
   "pygments_lexer": "ipython3",
   "version": "3.8.8"
  }
 },
 "nbformat": 4,
 "nbformat_minor": 5
}

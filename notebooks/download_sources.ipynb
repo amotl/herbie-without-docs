{
 "cells": [
  {
   "cell_type": "markdown",
   "metadata": {},
   "source": [
    "**Brian Blaylock**  \n",
    "*February 8, 2021*\n",
    "\n",
    "# 🛎 Download HRRR from different sources\n",
    "When you download HRRR files, you may specify the source you wish to download the file from. \n",
    "\n",
    "Download sources include:\n",
    "- [University of Utah's Pando archive](http://home.chpc.utah.edu/~u0553130/Brian_Blaylock/hrrr_FAQ.html)\n",
    "- [Amazon Web Services](https://registry.opendata.aws/noaa-hrrr-pds/)\n",
    "- [Google Cloud Platform](https://console.cloud.google.com/marketplace/product/noaa-public/hrrr)\n",
    "- [NOMADS (for most recent and last day)](http://www.nomads.ncep.noaa.gov/pub/data/nccf/com/hrrr/prod/)"
   ]
  },
  {
   "cell_type": "code",
   "execution_count": 1,
   "metadata": {},
   "outputs": [],
   "source": [
    "from hrrrb.archive import download_hrrr, base_url"
   ]
  },
  {
   "cell_type": "markdown",
   "metadata": {},
   "source": [
    "The download source is defined in `hrrrb/archive.py` by the **base_url** variable. The dictionary order defines the source priority. By default, it attempts to downlod the file from NOMADS first, then Google Cloud Platform, then the University of Utah Pando archive, then Amazon Web Services, then an alternative gateway on Pando (pando2). If the requested file isn't available at the first source, then it will try the second, and so on. \n",
    "\n",
    "> The order of the default priority might change. The .idx files weren't available on AWS at first, but it looks like they have been backfilled."
   ]
  },
  {
   "cell_type": "code",
   "execution_count": 2,
   "metadata": {},
   "outputs": [
    {
     "data": {
      "text/plain": [
       "{'nomads': 'https://nomads.ncep.noaa.gov/pub/data/nccf/com/hrrr/prod',\n",
       " 'google': 'https://storage.googleapis.com/high-resolution-rapid-refresh',\n",
       " 'pando': 'https://pando-rgw01.chpc.utah.edu',\n",
       " 'aws': 'https://noaa-hrrr-bdp-pds.s3.amazonaws.com',\n",
       " 'pando2': 'https://pando-rgw02.chpc.utah.edu'}"
      ]
     },
     "execution_count": 2,
     "metadata": {},
     "output_type": "execute_result"
    }
   ],
   "source": [
    "base_url"
   ]
  },
  {
   "cell_type": "markdown",
   "metadata": {},
   "source": [
    "---\n",
    "For example, when you download a file from the last few hours, it will download the file from NOMADS."
   ]
  },
  {
   "cell_type": "code",
   "execution_count": 3,
   "metadata": {},
   "outputs": [
    {
     "name": "stdout",
     "output_type": "stream",
     "text": [
      "💡 Info: Downloading [1] GRIB2 files\n",
      "\n",
      "✅ Success! Downloaded from [nomads] https://nomads.ncep.noaa.gov/pub/data/nccf/com/hrrr/prod/hrrr.20210208/conus/hrrr.t16z.wrfsfcf00.grib2 --> /p/home/blaylock/data/hrrr/20210208/20210208_hrrr.t16z.wrfsfcf00.grib2\n",
      "🚛💨 Download Progress: [1/1 completed] >> Est. Time Remaining 0:00:00         \n",
      "\n",
      "\n",
      "🍦 Finished 🍦  Time spent on download: 0:00:06.061477\n"
     ]
    },
    {
     "data": {
      "text/plain": [
       "(PosixPath('/p/home/blaylock/data/hrrr/20210208/20210208_hrrr.t16z.wrfsfcf00.grib2'),\n",
       " 'https://nomads.ncep.noaa.gov/pub/data/nccf/com/hrrr/prod/hrrr.20210208/conus/hrrr.t16z.wrfsfcf00.grib2')"
      ]
     },
     "execution_count": 3,
     "metadata": {},
     "output_type": "execute_result"
    }
   ],
   "source": [
    "from datetime import datetime, timedelta\n",
    "\n",
    "hours_ago = datetime.utcnow() - timedelta(hours=6)\n",
    "download_hrrr(hours_ago)"
   ]
  },
  {
   "cell_type": "markdown",
   "metadata": {},
   "source": [
    "---\n",
    "But if we download a file from more than a day ago, it downloads from Google."
   ]
  },
  {
   "cell_type": "code",
   "execution_count": 4,
   "metadata": {},
   "outputs": [
    {
     "name": "stdout",
     "output_type": "stream",
     "text": [
      "💡 Info: Downloading [1] GRIB2 files\n",
      "\n",
      "✅ Success! Downloaded from [google] https://storage.googleapis.com/high-resolution-rapid-refresh/hrrr.20200201/conus/hrrr.t00z.wrfsfcf00.grib2 --> /p/home/blaylock/data/hrrr/20200201/20200201_hrrr.t00z.wrfsfcf00.grib2\n",
      "🚛💨 Download Progress: [1/1 completed] >> Est. Time Remaining 0:00:00         \n",
      "\n",
      "\n",
      "🍦 Finished 🍦  Time spent on download: 0:00:02.521976\n"
     ]
    },
    {
     "data": {
      "text/plain": [
       "(PosixPath('/p/home/blaylock/data/hrrr/20200201/20200201_hrrr.t00z.wrfsfcf00.grib2'),\n",
       " 'https://storage.googleapis.com/high-resolution-rapid-refresh/hrrr.20200201/conus/hrrr.t00z.wrfsfcf00.grib2')"
      ]
     },
     "execution_count": 4,
     "metadata": {},
     "output_type": "execute_result"
    }
   ],
   "source": [
    "download_hrrr('2020-02-01')"
   ]
  },
  {
   "cell_type": "markdown",
   "metadata": {},
   "source": [
    "---\n",
    "We can change the download source priority with the `download_source_priority` argument. Here we download from Amazon Web Services instead. The source priority is a list of sources in the base url in the order we want to download from. "
   ]
  },
  {
   "cell_type": "code",
   "execution_count": 5,
   "metadata": {},
   "outputs": [
    {
     "name": "stdout",
     "output_type": "stream",
     "text": [
      "💡 Info: Downloading [1] GRIB2 files\n",
      "\n",
      "✅ Success! Downloaded from [aws] https://noaa-hrrr-bdp-pds.s3.amazonaws.com/hrrr.20200201/conus/hrrr.t00z.wrfsfcf00.grib2 --> /p/home/blaylock/data/hrrr/20200201/20200201_hrrr.t00z.wrfsfcf00.grib2\n",
      "🚛💨 Download Progress: [1/1 completed] >> Est. Time Remaining 0:00:00         \n",
      "\n",
      "\n",
      "🍦 Finished 🍦  Time spent on download: 0:00:02.052446\n"
     ]
    },
    {
     "data": {
      "text/plain": [
       "(PosixPath('/p/home/blaylock/data/hrrr/20200201/20200201_hrrr.t00z.wrfsfcf00.grib2'),\n",
       " 'https://noaa-hrrr-bdp-pds.s3.amazonaws.com/hrrr.20200201/conus/hrrr.t00z.wrfsfcf00.grib2')"
      ]
     },
     "execution_count": 5,
     "metadata": {},
     "output_type": "execute_result"
    }
   ],
   "source": [
    "download_hrrr('2020-02-01', download_source_priority=['aws'])"
   ]
  },
  {
   "cell_type": "markdown",
   "metadata": {},
   "source": [
    "however, if the file doesn't exist at one source, and we only specified one, it wont' know where to get the file. For example, native files do not exist on the Pando HRRR archive."
   ]
  },
  {
   "cell_type": "code",
   "execution_count": 6,
   "metadata": {},
   "outputs": [
    {
     "name": "stdout",
     "output_type": "stream",
     "text": [
      "💡 Info: Downloading [1] GRIB2 files\n",
      "\n",
      "\n",
      "❌ WARNING: Status code 404: Not Found. Content-Length: 219 bytes\n",
      "❌ Could not download file for [hrrr] [nat]. Tried to get the following:\n",
      "    1: https://pando-rgw01.chpc.utah.edu/hrrr/nat/20200201/hrrr.t00z.wrfnatf00.grib2\n",
      "\n",
      "🚛💨 Download Progress: [1/1 completed] >> Est. Time Remaining 0:00:00         \n",
      "\n",
      "\n",
      "🍦 Finished 🍦  Time spent on download: 0:00:00.541425\n"
     ]
    },
    {
     "data": {
      "text/plain": [
       "(array([], dtype=float64), array([], dtype=float64))"
      ]
     },
     "execution_count": 6,
     "metadata": {},
     "output_type": "execute_result"
    }
   ],
   "source": [
    "download_hrrr('2020-02-01', field='nat', download_source_priority=['pando'])"
   ]
  },
  {
   "cell_type": "markdown",
   "metadata": {},
   "source": [
    "but if we add another source, it will use the next source as a fall-back. In this example, the file doesn't exist on Pando, so it was downloaded from AWS."
   ]
  },
  {
   "cell_type": "code",
   "execution_count": 7,
   "metadata": {},
   "outputs": [
    {
     "name": "stdout",
     "output_type": "stream",
     "text": [
      "💡 Info: Downloading [1] GRIB2 files\n",
      "\n",
      "✅ Success! Downloaded from [aws] https://noaa-hrrr-bdp-pds.s3.amazonaws.com/hrrr.20200201/conus/hrrr.t00z.wrfnatf00.grib2 --> /p/home/blaylock/data/hrrr/20200201/20200201_hrrr.t00z.wrfnatf00.grib2\n",
      "🚛💨 Download Progress: [1/1 completed] >> Est. Time Remaining 0:00:00         \n",
      "\n",
      "\n",
      "🍦 Finished 🍦  Time spent on download: 0:00:22.985365\n"
     ]
    },
    {
     "data": {
      "text/plain": [
       "(PosixPath('/p/home/blaylock/data/hrrr/20200201/20200201_hrrr.t00z.wrfnatf00.grib2'),\n",
       " 'https://noaa-hrrr-bdp-pds.s3.amazonaws.com/hrrr.20200201/conus/hrrr.t00z.wrfnatf00.grib2')"
      ]
     },
     "execution_count": 7,
     "metadata": {},
     "output_type": "execute_result"
    }
   ],
   "source": [
    "download_hrrr('2020-02-01', field='nat', download_source_priority=['pando', 'aws'])"
   ]
  },
  {
   "cell_type": "code",
   "execution_count": null,
   "metadata": {},
   "outputs": [],
   "source": []
  },
  {
   "cell_type": "code",
   "execution_count": null,
   "metadata": {},
   "outputs": [],
   "source": []
  }
 ],
 "metadata": {
  "kernelspec": {
   "display_name": "Python 3",
   "language": "python",
   "name": "python3"
  },
  "language_info": {
   "codemirror_mode": {
    "name": "ipython",
    "version": 3
   },
   "file_extension": ".py",
   "mimetype": "text/x-python",
   "name": "python",
   "nbconvert_exporter": "python",
   "pygments_lexer": "ipython3",
   "version": "3.7.9"
  }
 },
 "nbformat": 4,
 "nbformat_minor": 4
}

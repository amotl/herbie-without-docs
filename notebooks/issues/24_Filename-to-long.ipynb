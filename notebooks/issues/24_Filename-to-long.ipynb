{
 "cells": [
  {
   "cell_type": "code",
   "execution_count": 1,
   "source": [
    "from herbie.archive import Herbie"
   ],
   "outputs": [
    {
     "output_type": "stream",
     "name": "stderr",
     "text": [
      "/p/home/blaylock/BB_python/Carpenter_Workshop/toolbox/cartopy_tools_OLD.py:37: UserWarning: Migrate to new `cartopy_tools` for latest updates and features.\n",
      "  warnings.warn(\"Migrate to new `cartopy_tools` for latest updates and features.\")\n"
     ]
    }
   ],
   "metadata": {}
  },
  {
   "cell_type": "code",
   "execution_count": 2,
   "source": [
    "h = Herbie('2021-09-22 12:00', model='gfs')"
   ],
   "outputs": [
    {
     "output_type": "stream",
     "name": "stderr",
     "text": [
      "/p/home/blaylock/BB_python/Herbie/herbie/archive.py:205: UserWarning: `product` not specified. Will use [\"pgrb2.0p25\"].\n",
      "  warnings.warn(f'`product` not specified. Will use [\"{self.product}\"].')\n"
     ]
    },
    {
     "output_type": "stream",
     "name": "stdout",
     "text": [
      "🏋🏻‍♂️ Found \u001b[32m2021-Sep-22 12:00 UTC F00\u001b[m [GFS] [product=pgrb2.0p25] GRIB2 file from \u001b[38;5;202mlocal\u001b[m and index file from \u001b[38;5;202maws\u001b[m.                                                                                                                                                       \n"
     ]
    }
   ],
   "metadata": {}
  },
  {
   "cell_type": "code",
   "execution_count": 4,
   "source": [
    "#download full GRIB2 for the GFS @ f000\n",
    "h.download('HGT')\n"
   ],
   "outputs": [
    {
     "output_type": "stream",
     "name": "stdout",
     "text": [
      "🌉 Already have local copy --> /p/cwfs/blaylock/data/gfs/20210922/gfs.t12z.pgrb2.0p25.grib2.subset_472333afeb2ff2aebff09d2ba974a3aa5fe55dbe\n"
     ]
    }
   ],
   "metadata": {}
  },
  {
   "cell_type": "code",
   "execution_count": 4,
   "source": [
    "ds = h.xarray('HGT')"
   ],
   "outputs": [
    {
     "output_type": "stream",
     "name": "stdout",
     "text": [
      "📇 Download subset: [GFS] model [pgrb2.0p25] product run at \u001b[32m2021-Sep-22 12:00 UTC F00\u001b[m                                                            \n",
      " cURL from https://noaa-gfs-bdp-pds.s3.amazonaws.com/gfs.20210922/12/atmos/gfs.t12z.pgrb2.0p25.f000\n",
      "   1: GRIB_message=15  \u001b[34mHGT:0.01 mb:anl\u001b[m\n",
      "   2: GRIB_message=25  \u001b[34mHGT:0.02 mb:anl\u001b[m\n",
      "   3: GRIB_message=35  \u001b[34mHGT:0.04 mb:anl\u001b[m\n",
      "   4: GRIB_message=45  \u001b[34mHGT:0.07 mb:anl\u001b[m\n",
      "   5: GRIB_message=55  \u001b[34mHGT:0.1 mb:anl\u001b[m\n",
      "   6: GRIB_message=65  \u001b[34mHGT:0.2 mb:anl\u001b[m\n",
      "   7: GRIB_message=75  \u001b[34mHGT:0.4 mb:anl\u001b[m\n",
      "   8: GRIB_message=85  \u001b[34mHGT:0.7 mb:anl\u001b[m\n",
      "   9: GRIB_message=95  \u001b[34mHGT:1 mb:anl\u001b[m\n",
      "  10: GRIB_message=105 \u001b[34mHGT:2 mb:anl\u001b[m\n",
      "  11: GRIB_message=115 \u001b[34mHGT:3 mb:anl\u001b[m\n",
      "  12: GRIB_message=125 \u001b[34mHGT:5 mb:anl\u001b[m\n",
      "  13: GRIB_message=135 \u001b[34mHGT:7 mb:anl\u001b[m\n",
      "  14: GRIB_message=145 \u001b[34mHGT:10 mb:anl\u001b[m\n",
      "  15: GRIB_message=155 \u001b[34mHGT:15 mb:anl\u001b[m\n",
      "  16: GRIB_message=165 \u001b[34mHGT:20 mb:anl\u001b[m\n",
      "  17: GRIB_message=175 \u001b[34mHGT:30 mb:anl\u001b[m\n",
      "  18: GRIB_message=185 \u001b[34mHGT:40 mb:anl\u001b[m\n",
      "  19: GRIB_message=195 \u001b[34mHGT:50 mb:anl\u001b[m\n",
      "  20: GRIB_message=211 \u001b[34mHGT:70 mb:anl\u001b[m\n",
      "  21: GRIB_message=221 \u001b[34mHGT:100 mb:anl\u001b[m\n",
      "  22: GRIB_message=237 \u001b[34mHGT:150 mb:anl\u001b[m\n",
      "  23: GRIB_message=253 \u001b[34mHGT:200 mb:anl\u001b[m\n",
      "  24: GRIB_message=269 \u001b[34mHGT:250 mb:anl\u001b[m\n",
      "  25: GRIB_message=285 \u001b[34mHGT:300 mb:anl\u001b[m\n",
      "  26: GRIB_message=301 \u001b[34mHGT:350 mb:anl\u001b[m\n",
      "  27: GRIB_message=317 \u001b[34mHGT:400 mb:anl\u001b[m\n",
      "  28: GRIB_message=333 \u001b[34mHGT:450 mb:anl\u001b[m\n",
      "  29: GRIB_message=349 \u001b[34mHGT:500 mb:anl\u001b[m\n",
      "  30: GRIB_message=365 \u001b[34mHGT:550 mb:anl\u001b[m\n",
      "  31: GRIB_message=381 \u001b[34mHGT:600 mb:anl\u001b[m\n",
      "  32: GRIB_message=397 \u001b[34mHGT:650 mb:anl\u001b[m\n",
      "  33: GRIB_message=413 \u001b[34mHGT:700 mb:anl\u001b[m\n",
      "  34: GRIB_message=429 \u001b[34mHGT:750 mb:anl\u001b[m\n",
      "  35: GRIB_message=445 \u001b[34mHGT:800 mb:anl\u001b[m\n",
      "  36: GRIB_message=461 \u001b[34mHGT:850 mb:anl\u001b[m\n",
      "  37: GRIB_message=477 \u001b[34mHGT:900 mb:anl\u001b[m\n",
      "  38: GRIB_message=493 \u001b[34mHGT:925 mb:anl\u001b[m\n",
      "  39: GRIB_message=509 \u001b[34mHGT:950 mb:anl\u001b[m\n",
      "  40: GRIB_message=526 \u001b[34mHGT:975 mb:anl\u001b[m\n",
      "  41: GRIB_message=558 \u001b[34mHGT:1000 mb:anl\u001b[m\n",
      "  42: GRIB_message=562 \u001b[34mHGT:surface:anl\u001b[m\n",
      "  43: GRIB_message=612 \u001b[34mHGT:cloud ceiling:anl\u001b[m\n",
      "  44: GRIB_message=618 \u001b[34mHGT:tropopause:anl\u001b[m\n",
      "  45: GRIB_message=625 \u001b[34mHGT:max wind:anl\u001b[m\n",
      "  46: GRIB_message=654 \u001b[34mHGT:0C isotherm:anl\u001b[m\n",
      "  47: GRIB_message=656 \u001b[34mHGT:highest tropospheric freezing level:anl\u001b[m\n",
      "  48: GRIB_message=688 \u001b[34mHGT:PV=2e-06 (Km^2/kg/s) surface:anl\u001b[m\n",
      "  49: GRIB_message=694 \u001b[34mHGT:PV=-2e-06 (Km^2/kg/s) surface:anl\u001b[m\n"
     ]
    }
   ],
   "metadata": {}
  },
  {
   "cell_type": "code",
   "execution_count": 5,
   "source": [
    "ds"
   ],
   "outputs": [
    {
     "output_type": "execute_result",
     "data": {
      "text/plain": [
       "[<xarray.Dataset>\n",
       " Dimensions:       (latitude: 721, longitude: 1440)\n",
       " Coordinates:\n",
       "     time          datetime64[ns] 2021-09-22T12:00:00\n",
       "     step          timedelta64[ns] 00:00:00\n",
       "     cloudCeiling  float64 0.0\n",
       "   * latitude      (latitude) float64 90.0 89.75 89.5 ... -89.5 -89.75 -90.0\n",
       "   * longitude     (longitude) float64 0.0 0.25 0.5 0.75 ... 359.2 359.5 359.8\n",
       "     valid_time    datetime64[ns] 2021-09-22T12:00:00\n",
       " Data variables:\n",
       "     gh            (latitude, longitude) float32 1.62e+04 1.62e+04 ... 2e+04\n",
       " Attributes:\n",
       "     GRIB_edition:            2\n",
       "     GRIB_centre:             kwbc\n",
       "     GRIB_centreDescription:  US National Weather Service - NCEP \n",
       "     GRIB_subCentre:          0\n",
       "     Conventions:             CF-1.7\n",
       "     institution:             US National Weather Service - NCEP \n",
       "     model:                   gfs\n",
       "     product:                 pgrb2.0p25\n",
       "     description:             Global Forecast System\n",
       "     remote_grib:             https://noaa-gfs-bdp-pds.s3.amazonaws.com/gfs.20...\n",
       "     local_grib:              /p/cwfs/blaylock/data/gfs/20210922/gfs.t12z.pgrb...,\n",
       " <xarray.Dataset>\n",
       " Dimensions:                      (latitude: 721, longitude: 1440)\n",
       " Coordinates:\n",
       "     time                         datetime64[ns] 2021-09-22T12:00:00\n",
       "     step                         timedelta64[ns] 00:00:00\n",
       "     highestTroposphericFreezing  float64 0.0\n",
       "   * latitude                     (latitude) float64 90.0 89.75 ... -89.75 -90.0\n",
       "   * longitude                    (longitude) float64 0.0 0.25 ... 359.5 359.8\n",
       "     valid_time                   datetime64[ns] 2021-09-22T12:00:00\n",
       " Data variables:\n",
       "     gh                           (latitude, longitude) float32 0.0 0.0 ... 0.0\n",
       " Attributes:\n",
       "     GRIB_edition:            2\n",
       "     GRIB_centre:             kwbc\n",
       "     GRIB_centreDescription:  US National Weather Service - NCEP \n",
       "     GRIB_subCentre:          0\n",
       "     Conventions:             CF-1.7\n",
       "     institution:             US National Weather Service - NCEP \n",
       "     model:                   gfs\n",
       "     product:                 pgrb2.0p25\n",
       "     description:             Global Forecast System\n",
       "     remote_grib:             https://noaa-gfs-bdp-pds.s3.amazonaws.com/gfs.20...\n",
       "     local_grib:              /p/cwfs/blaylock/data/gfs/20210922/gfs.t12z.pgrb...,\n",
       " <xarray.Dataset>\n",
       " Dimensions:       (isobaricInPa: 8, latitude: 721, longitude: 1440)\n",
       " Coordinates:\n",
       "     time          datetime64[ns] 2021-09-22T12:00:00\n",
       "     step          timedelta64[ns] 00:00:00\n",
       "   * isobaricInPa  (isobaricInPa) float64 70.0 40.0 20.0 10.0 7.0 4.0 2.0 1.0\n",
       "   * latitude      (latitude) float64 90.0 89.75 89.5 ... -89.5 -89.75 -90.0\n",
       "   * longitude     (longitude) float64 0.0 0.25 0.5 0.75 ... 359.2 359.5 359.8\n",
       "     valid_time    datetime64[ns] 2021-09-22T12:00:00\n",
       " Data variables:\n",
       "     gh            (isobaricInPa, latitude, longitude) float32 4.882e+04 ... 7...\n",
       " Attributes:\n",
       "     GRIB_edition:            2\n",
       "     GRIB_centre:             kwbc\n",
       "     GRIB_centreDescription:  US National Weather Service - NCEP \n",
       "     GRIB_subCentre:          0\n",
       "     Conventions:             CF-1.7\n",
       "     institution:             US National Weather Service - NCEP \n",
       "     model:                   gfs\n",
       "     product:                 pgrb2.0p25\n",
       "     description:             Global Forecast System\n",
       "     remote_grib:             https://noaa-gfs-bdp-pds.s3.amazonaws.com/gfs.20...\n",
       "     local_grib:              /p/cwfs/blaylock/data/gfs/20210922/gfs.t12z.pgrb...,\n",
       " <xarray.Dataset>\n",
       " Dimensions:        (isobaricInhPa: 33, latitude: 721, longitude: 1440)\n",
       " Coordinates:\n",
       "     time           datetime64[ns] 2021-09-22T12:00:00\n",
       "     step           timedelta64[ns] 00:00:00\n",
       "   * isobaricInhPa  (isobaricInhPa) float64 1e+03 975.0 950.0 ... 3.0 2.0 1.0\n",
       "   * latitude       (latitude) float64 90.0 89.75 89.5 ... -89.5 -89.75 -90.0\n",
       "   * longitude      (longitude) float64 0.0 0.25 0.5 0.75 ... 359.2 359.5 359.8\n",
       "     valid_time     datetime64[ns] 2021-09-22T12:00:00\n",
       " Data variables:\n",
       "     gh             (isobaricInhPa, latitude, longitude) float32 55.97 ... 4.3...\n",
       " Attributes:\n",
       "     GRIB_edition:            2\n",
       "     GRIB_centre:             kwbc\n",
       "     GRIB_centreDescription:  US National Weather Service - NCEP \n",
       "     GRIB_subCentre:          0\n",
       "     Conventions:             CF-1.7\n",
       "     institution:             US National Weather Service - NCEP \n",
       "     model:                   gfs\n",
       "     product:                 pgrb2.0p25\n",
       "     description:             Global Forecast System\n",
       "     remote_grib:             https://noaa-gfs-bdp-pds.s3.amazonaws.com/gfs.20...\n",
       "     local_grib:              /p/cwfs/blaylock/data/gfs/20210922/gfs.t12z.pgrb...,\n",
       " <xarray.Dataset>\n",
       " Dimensions:       (latitude: 721, longitude: 1440)\n",
       " Coordinates:\n",
       "     time          datetime64[ns] 2021-09-22T12:00:00\n",
       "     step          timedelta64[ns] 00:00:00\n",
       "     isothermZero  float64 0.0\n",
       "   * latitude      (latitude) float64 90.0 89.75 89.5 ... -89.5 -89.75 -90.0\n",
       "   * longitude     (longitude) float64 0.0 0.25 0.5 0.75 ... 359.2 359.5 359.8\n",
       "     valid_time    datetime64[ns] 2021-09-22T12:00:00\n",
       " Data variables:\n",
       "     gh            (latitude, longitude) float32 0.0 0.0 0.0 0.0 ... 0.0 0.0 0.0\n",
       " Attributes:\n",
       "     GRIB_edition:            2\n",
       "     GRIB_centre:             kwbc\n",
       "     GRIB_centreDescription:  US National Weather Service - NCEP \n",
       "     GRIB_subCentre:          0\n",
       "     Conventions:             CF-1.7\n",
       "     institution:             US National Weather Service - NCEP \n",
       "     model:                   gfs\n",
       "     product:                 pgrb2.0p25\n",
       "     description:             Global Forecast System\n",
       "     remote_grib:             https://noaa-gfs-bdp-pds.s3.amazonaws.com/gfs.20...\n",
       "     local_grib:              /p/cwfs/blaylock/data/gfs/20210922/gfs.t12z.pgrb...,\n",
       " <xarray.Dataset>\n",
       " Dimensions:     (latitude: 721, longitude: 1440)\n",
       " Coordinates:\n",
       "     time        datetime64[ns] 2021-09-22T12:00:00\n",
       "     step        timedelta64[ns] 00:00:00\n",
       "     maxWind     float64 0.0\n",
       "   * latitude    (latitude) float64 90.0 89.75 89.5 89.25 ... -89.5 -89.75 -90.0\n",
       "   * longitude   (longitude) float64 0.0 0.25 0.5 0.75 ... 359.2 359.5 359.8\n",
       "     valid_time  datetime64[ns] 2021-09-22T12:00:00\n",
       " Data variables:\n",
       "     gh          (latitude, longitude) float32 8.656e+03 8.656e+03 ... 5.071e+03\n",
       " Attributes:\n",
       "     GRIB_edition:            2\n",
       "     GRIB_centre:             kwbc\n",
       "     GRIB_centreDescription:  US National Weather Service - NCEP \n",
       "     GRIB_subCentre:          0\n",
       "     Conventions:             CF-1.7\n",
       "     institution:             US National Weather Service - NCEP \n",
       "     model:                   gfs\n",
       "     product:                 pgrb2.0p25\n",
       "     description:             Global Forecast System\n",
       "     remote_grib:             https://noaa-gfs-bdp-pds.s3.amazonaws.com/gfs.20...\n",
       "     local_grib:              /p/cwfs/blaylock/data/gfs/20210922/gfs.t12z.pgrb...,\n",
       " <xarray.Dataset>\n",
       " Dimensions:             (potentialVorticity: 2, latitude: 721, longitude: 1440)\n",
       " Coordinates:\n",
       "     time                datetime64[ns] 2021-09-22T12:00:00\n",
       "     step                timedelta64[ns] 00:00:00\n",
       "   * potentialVorticity  (potentialVorticity) float64 2.0 2.147e+06\n",
       "   * latitude            (latitude) float64 90.0 89.75 89.5 ... -89.75 -90.0\n",
       "   * longitude           (longitude) float64 0.0 0.25 0.5 ... 359.2 359.5 359.8\n",
       "     valid_time          datetime64[ns] 2021-09-22T12:00:00\n",
       " Data variables:\n",
       "     gh                  (potentialVorticity, latitude, longitude) float32 7.9...\n",
       " Attributes:\n",
       "     GRIB_edition:            2\n",
       "     GRIB_centre:             kwbc\n",
       "     GRIB_centreDescription:  US National Weather Service - NCEP \n",
       "     GRIB_subCentre:          0\n",
       "     Conventions:             CF-1.7\n",
       "     institution:             US National Weather Service - NCEP \n",
       "     model:                   gfs\n",
       "     product:                 pgrb2.0p25\n",
       "     description:             Global Forecast System\n",
       "     remote_grib:             https://noaa-gfs-bdp-pds.s3.amazonaws.com/gfs.20...\n",
       "     local_grib:              /p/cwfs/blaylock/data/gfs/20210922/gfs.t12z.pgrb...,\n",
       " <xarray.Dataset>\n",
       " Dimensions:     (latitude: 721, longitude: 1440)\n",
       " Coordinates:\n",
       "     time        datetime64[ns] 2021-09-22T12:00:00\n",
       "     step        timedelta64[ns] 00:00:00\n",
       "     surface     float64 0.0\n",
       "   * latitude    (latitude) float64 90.0 89.75 89.5 89.25 ... -89.5 -89.75 -90.0\n",
       "   * longitude   (longitude) float64 0.0 0.25 0.5 0.75 ... 359.2 359.5 359.8\n",
       "     valid_time  datetime64[ns] 2021-09-22T12:00:00\n",
       " Data variables:\n",
       "     orog        (latitude, longitude) float32 0.05937 0.05937 ... 2.775e+03\n",
       " Attributes:\n",
       "     GRIB_edition:            2\n",
       "     GRIB_centre:             kwbc\n",
       "     GRIB_centreDescription:  US National Weather Service - NCEP \n",
       "     GRIB_subCentre:          0\n",
       "     Conventions:             CF-1.7\n",
       "     institution:             US National Weather Service - NCEP \n",
       "     model:                   gfs\n",
       "     product:                 pgrb2.0p25\n",
       "     description:             Global Forecast System\n",
       "     remote_grib:             https://noaa-gfs-bdp-pds.s3.amazonaws.com/gfs.20...\n",
       "     local_grib:              /p/cwfs/blaylock/data/gfs/20210922/gfs.t12z.pgrb...,\n",
       " <xarray.Dataset>\n",
       " Dimensions:     (latitude: 721, longitude: 1440)\n",
       " Coordinates:\n",
       "     time        datetime64[ns] 2021-09-22T12:00:00\n",
       "     step        timedelta64[ns] 00:00:00\n",
       "     tropopause  float64 0.0\n",
       "   * latitude    (latitude) float64 90.0 89.75 89.5 89.25 ... -89.5 -89.75 -90.0\n",
       "   * longitude   (longitude) float64 0.0 0.25 0.5 0.75 ... 359.2 359.5 359.8\n",
       "     valid_time  datetime64[ns] 2021-09-22T12:00:00\n",
       " Data variables:\n",
       "     gh          (latitude, longitude) float32 9.146e+03 9.146e+03 ... 1.308e+04\n",
       " Attributes:\n",
       "     GRIB_edition:            2\n",
       "     GRIB_centre:             kwbc\n",
       "     GRIB_centreDescription:  US National Weather Service - NCEP \n",
       "     GRIB_subCentre:          0\n",
       "     Conventions:             CF-1.7\n",
       "     institution:             US National Weather Service - NCEP \n",
       "     model:                   gfs\n",
       "     product:                 pgrb2.0p25\n",
       "     description:             Global Forecast System\n",
       "     remote_grib:             https://noaa-gfs-bdp-pds.s3.amazonaws.com/gfs.20...\n",
       "     local_grib:              /p/cwfs/blaylock/data/gfs/20210922/gfs.t12z.pgrb...]"
      ]
     },
     "metadata": {},
     "execution_count": 5
    }
   ],
   "metadata": {}
  },
  {
   "cell_type": "code",
   "execution_count": 7,
   "source": [
    "import hashlib"
   ],
   "outputs": [],
   "metadata": {}
  },
  {
   "cell_type": "code",
   "execution_count": 13,
   "source": [
    "s = '1-2-3-4-5-6-7-8-100-234-1-2-3-4-5-6-7-8-100-234-1-2-3-4-5-6-7-8-100-234-1-2-3-4-5-6-7-8-100-234'\n",
    "s"
   ],
   "outputs": [
    {
     "output_type": "execute_result",
     "data": {
      "text/plain": [
       "'1-2-3-4-5-6-7-8-100-234-1-2-3-4-5-6-7-8-100-234-1-2-3-4-5-6-7-8-100-234-1-2-3-4-5-6-7-8-100-234'"
      ]
     },
     "metadata": {},
     "execution_count": 13
    }
   ],
   "metadata": {}
  },
  {
   "cell_type": "code",
   "execution_count": 14,
   "source": [
    "hashlib.sha1(s.encode()).hexdigest()"
   ],
   "outputs": [
    {
     "output_type": "execute_result",
     "data": {
      "text/plain": [
       "'32dd02152b0f26d8025c30184893a70acdbe83b4'"
      ]
     },
     "metadata": {},
     "execution_count": 14
    }
   ],
   "metadata": {}
  },
  {
   "cell_type": "code",
   "execution_count": 9,
   "source": [
    "H = Herbie('2021-09-22', fxx=1)"
   ],
   "outputs": [
    {
     "output_type": "stream",
     "name": "stderr",
     "text": [
      "/p/home/blaylock/BB_python/Herbie/herbie/archive.py:205: UserWarning: `product` not specified. Will use [\"sfc\"].\n",
      "  warnings.warn(f'`product` not specified. Will use [\"{self.product}\"].')\n"
     ]
    },
    {
     "output_type": "stream",
     "name": "stdout",
     "text": [
      "🏋🏻‍♂️ Found \u001b[32m2021-Sep-22 00:00 UTC F01\u001b[m [HRRR] [product=sfc] GRIB2 file from \u001b[38;5;202maws\u001b[m and index file from \u001b[38;5;202maws\u001b[m.                                                                                                                                                       \n"
     ]
    }
   ],
   "metadata": {}
  },
  {
   "cell_type": "code",
   "execution_count": 10,
   "source": [
    "H.download('TMP')"
   ],
   "outputs": [
    {
     "output_type": "stream",
     "name": "stdout",
     "text": [
      "📇 Download subset: [HRRR] model [sfc] product run at \u001b[32m2021-Sep-22 00:00 UTC F01\u001b[m                                                            \n",
      " cURL from https://noaa-hrrr-bdp-pds.s3.amazonaws.com/hrrr.20210922/conus/hrrr.t00z.wrfsfcf01.grib2\n",
      "   1: GRIB_message=15  \u001b[34mTMP:500 mb:1 hour fcst\u001b[m\n",
      "   2: GRIB_message=20  \u001b[34mTMP:700 mb:1 hour fcst\u001b[m\n",
      "   3: GRIB_message=26  \u001b[34mTMP:850 mb:1 hour fcst\u001b[m\n",
      "   4: GRIB_message=30  \u001b[34mTMP:925 mb:1 hour fcst\u001b[m\n",
      "   5: GRIB_message=34  \u001b[34mTMP:1000 mb:1 hour fcst\u001b[m\n",
      "   6: GRIB_message=64  \u001b[34mTMP:surface:1 hour fcst\u001b[m\n",
      "   7: GRIB_message=71  \u001b[34mTMP:2 m above ground:1 hour fcst\u001b[m\n"
     ]
    }
   ],
   "metadata": {}
  },
  {
   "cell_type": "code",
   "execution_count": 8,
   "source": [
    "H.xarray('TMP')"
   ],
   "outputs": [
    {
     "output_type": "execute_result",
     "data": {
      "text/plain": [
       "[<xarray.Dataset>\n",
       " Dimensions:            (y: 1059, x: 1799)\n",
       " Coordinates:\n",
       "     time               datetime64[ns] 2021-09-22\n",
       "     step               timedelta64[ns] 00:00:00\n",
       "     heightAboveGround  float64 2.0\n",
       "     latitude           (y, x) float64 ...\n",
       "     longitude          (y, x) float64 ...\n",
       "     valid_time         datetime64[ns] ...\n",
       " Dimensions without coordinates: y, x\n",
       " Data variables:\n",
       "     t2m                (y, x) float32 ...\n",
       " Attributes:\n",
       "     GRIB_edition:            2\n",
       "     GRIB_centre:             kwbc\n",
       "     GRIB_centreDescription:  US National Weather Service - NCEP \n",
       "     GRIB_subCentre:          0\n",
       "     Conventions:             CF-1.7\n",
       "     institution:             US National Weather Service - NCEP \n",
       "     model:                   hrrr\n",
       "     product:                 sfc\n",
       "     description:             High-Resolution Rapid Refresh - CONUS\n",
       "     remote_grib:             https://noaa-hrrr-bdp-pds.s3.amazonaws.com/hrrr....\n",
       "     local_grib:              /p/cwfs/blaylock/data/hrrr/20210922/hrrr.t00z.wr...,\n",
       " <xarray.Dataset>\n",
       " Dimensions:        (isobaricInhPa: 5, y: 1059, x: 1799)\n",
       " Coordinates:\n",
       "     time           datetime64[ns] 2021-09-22\n",
       "     step           timedelta64[ns] 00:00:00\n",
       "   * isobaricInhPa  (isobaricInhPa) float64 1e+03 925.0 850.0 700.0 500.0\n",
       "     latitude       (y, x) float64 ...\n",
       "     longitude      (y, x) float64 ...\n",
       "     valid_time     datetime64[ns] ...\n",
       " Dimensions without coordinates: y, x\n",
       " Data variables:\n",
       "     t              (isobaricInhPa, y, x) float32 ...\n",
       " Attributes:\n",
       "     GRIB_edition:            2\n",
       "     GRIB_centre:             kwbc\n",
       "     GRIB_centreDescription:  US National Weather Service - NCEP \n",
       "     GRIB_subCentre:          0\n",
       "     Conventions:             CF-1.7\n",
       "     institution:             US National Weather Service - NCEP \n",
       "     model:                   hrrr\n",
       "     product:                 sfc\n",
       "     description:             High-Resolution Rapid Refresh - CONUS\n",
       "     remote_grib:             https://noaa-hrrr-bdp-pds.s3.amazonaws.com/hrrr....\n",
       "     local_grib:              /p/cwfs/blaylock/data/hrrr/20210922/hrrr.t00z.wr...,\n",
       " <xarray.Dataset>\n",
       " Dimensions:     (y: 1059, x: 1799)\n",
       " Coordinates:\n",
       "     time        datetime64[ns] 2021-09-22\n",
       "     step        timedelta64[ns] 00:00:00\n",
       "     surface     float64 0.0\n",
       "     latitude    (y, x) float64 ...\n",
       "     longitude   (y, x) float64 ...\n",
       "     valid_time  datetime64[ns] ...\n",
       " Dimensions without coordinates: y, x\n",
       " Data variables:\n",
       "     t           (y, x) float32 ...\n",
       " Attributes:\n",
       "     GRIB_edition:            2\n",
       "     GRIB_centre:             kwbc\n",
       "     GRIB_centreDescription:  US National Weather Service - NCEP \n",
       "     GRIB_subCentre:          0\n",
       "     Conventions:             CF-1.7\n",
       "     institution:             US National Weather Service - NCEP \n",
       "     model:                   hrrr\n",
       "     product:                 sfc\n",
       "     description:             High-Resolution Rapid Refresh - CONUS\n",
       "     remote_grib:             https://noaa-hrrr-bdp-pds.s3.amazonaws.com/hrrr....\n",
       "     local_grib:              /p/cwfs/blaylock/data/hrrr/20210922/hrrr.t00z.wr...]"
      ]
     },
     "metadata": {},
     "execution_count": 8
    }
   ],
   "metadata": {}
  },
  {
   "cell_type": "code",
   "execution_count": null,
   "source": [],
   "outputs": [],
   "metadata": {}
  }
 ],
 "metadata": {
  "orig_nbformat": 4,
  "language_info": {
   "name": "python",
   "version": "3.8.10",
   "mimetype": "text/x-python",
   "codemirror_mode": {
    "name": "ipython",
    "version": 3
   },
   "pygments_lexer": "ipython3",
   "nbconvert_exporter": "python",
   "file_extension": ".py"
  },
  "kernelspec": {
   "name": "python3",
   "display_name": "Python 3.8.10 64-bit ('herbie': conda)"
  },
  "interpreter": {
   "hash": "68b4f2e50a7ed58bfdd900fbdfdbedaaf8a3e01f45deef876033be52417a9a2d"
  }
 },
 "nbformat": 4,
 "nbformat_minor": 2
}
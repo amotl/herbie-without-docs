{
 "cells": [
  {
   "cell_type": "code",
   "execution_count": 1,
   "metadata": {},
   "outputs": [
    {
     "name": "stderr",
     "output_type": "stream",
     "text": [
      "/p/home/blaylock/BB_python/Carpenter_Workshop/toolbox/cartopy_tools.py:60: UserWarning: Migrate to `cartopy_tools2` for latest updates and features.\n",
      "  warnings.warn(\"Migrate to `cartopy_tools2` for latest updates and features.\")\n"
     ]
    }
   ],
   "source": [
    "from herbie.archive import Herbie\n",
    "import requests"
   ]
  },
  {
   "cell_type": "code",
   "execution_count": 2,
   "metadata": {},
   "outputs": [
    {
     "name": "stderr",
     "output_type": "stream",
     "text": [
      "/p/home/blaylock/BB_python/Herbie/herbie/archive.py:215: UserWarning: `product` not specified. Will use [\"sfc\"].\n",
      "  self.product = list(self.PRODUCTS)[0]\n"
     ]
    },
    {
     "name": "stdout",
     "output_type": "stream",
     "text": [
      "🏋🏻‍♂️ Found \u001b[32m2021-Jul-11 00:00 UTC F00\u001b[m [HRRR] [product=sfc] GRIB2 file from \u001b[31maws\u001b[m and index file from \u001b[31maws\u001b[m.                                                                                                                                                       \n"
     ]
    }
   ],
   "source": [
    "H = Herbie(\"2021-07-11\", model=\"hrrr\")"
   ]
  },
  {
   "cell_type": "code",
   "execution_count": 3,
   "metadata": {},
   "outputs": [
    {
     "data": {
      "text/html": [
       "<div>\n",
       "<style scoped>\n",
       "    .dataframe tbody tr th:only-of-type {\n",
       "        vertical-align: middle;\n",
       "    }\n",
       "\n",
       "    .dataframe tbody tr th {\n",
       "        vertical-align: top;\n",
       "    }\n",
       "\n",
       "    .dataframe thead th {\n",
       "        text-align: right;\n",
       "    }\n",
       "</style>\n",
       "<table border=\"1\" class=\"dataframe\">\n",
       "  <thead>\n",
       "    <tr style=\"text-align: right;\">\n",
       "      <th></th>\n",
       "      <th>start_byte</th>\n",
       "      <th>end_byte</th>\n",
       "      <th>range</th>\n",
       "      <th>reference_time</th>\n",
       "      <th>valid_time</th>\n",
       "      <th>variable</th>\n",
       "      <th>level</th>\n",
       "      <th>forecast_time</th>\n",
       "    </tr>\n",
       "    <tr>\n",
       "      <th>grib_message</th>\n",
       "      <th></th>\n",
       "      <th></th>\n",
       "      <th></th>\n",
       "      <th></th>\n",
       "      <th></th>\n",
       "      <th></th>\n",
       "      <th></th>\n",
       "      <th></th>\n",
       "    </tr>\n",
       "  </thead>\n",
       "  <tbody>\n",
       "    <tr>\n",
       "      <th>1.0</th>\n",
       "      <td>0</td>\n",
       "      <td>337178</td>\n",
       "      <td>0-337178</td>\n",
       "      <td>2021-07-11</td>\n",
       "      <td>2021-07-11</td>\n",
       "      <td>REFC</td>\n",
       "      <td>entire atmosphere</td>\n",
       "      <td>anl</td>\n",
       "    </tr>\n",
       "    <tr>\n",
       "      <th>2.0</th>\n",
       "      <td>337178</td>\n",
       "      <td>607315</td>\n",
       "      <td>337178-607315</td>\n",
       "      <td>2021-07-11</td>\n",
       "      <td>2021-07-11</td>\n",
       "      <td>RETOP</td>\n",
       "      <td>cloud top</td>\n",
       "      <td>anl</td>\n",
       "    </tr>\n",
       "    <tr>\n",
       "      <th>3.0</th>\n",
       "      <td>607315</td>\n",
       "      <td>995253</td>\n",
       "      <td>607315-995253</td>\n",
       "      <td>2021-07-11</td>\n",
       "      <td>2021-07-11</td>\n",
       "      <td>var discipline=0 center=7 local_table=1 parmca...</td>\n",
       "      <td>entire atmosphere</td>\n",
       "      <td>anl</td>\n",
       "    </tr>\n",
       "    <tr>\n",
       "      <th>4.0</th>\n",
       "      <td>995253</td>\n",
       "      <td>1284042</td>\n",
       "      <td>995253-1284042</td>\n",
       "      <td>2021-07-11</td>\n",
       "      <td>2021-07-11</td>\n",
       "      <td>VIL</td>\n",
       "      <td>entire atmosphere</td>\n",
       "      <td>anl</td>\n",
       "    </tr>\n",
       "    <tr>\n",
       "      <th>5.0</th>\n",
       "      <td>1284042</td>\n",
       "      <td>2586598</td>\n",
       "      <td>1284042-2586598</td>\n",
       "      <td>2021-07-11</td>\n",
       "      <td>2021-07-11</td>\n",
       "      <td>VIS</td>\n",
       "      <td>surface</td>\n",
       "      <td>anl</td>\n",
       "    </tr>\n",
       "    <tr>\n",
       "      <th>...</th>\n",
       "      <td>...</td>\n",
       "      <td>...</td>\n",
       "      <td>...</td>\n",
       "      <td>...</td>\n",
       "      <td>...</td>\n",
       "      <td>...</td>\n",
       "      <td>...</td>\n",
       "      <td>...</td>\n",
       "    </tr>\n",
       "    <tr>\n",
       "      <th>166.0</th>\n",
       "      <td>139549353</td>\n",
       "      <td>139549586</td>\n",
       "      <td>139549353-139549586</td>\n",
       "      <td>2021-07-11</td>\n",
       "      <td>2021-07-11</td>\n",
       "      <td>ICEC</td>\n",
       "      <td>surface</td>\n",
       "      <td>anl</td>\n",
       "    </tr>\n",
       "    <tr>\n",
       "      <th>167.0</th>\n",
       "      <td>139549586</td>\n",
       "      <td>141229104</td>\n",
       "      <td>139549586-141229104</td>\n",
       "      <td>2021-07-11</td>\n",
       "      <td>2021-07-11</td>\n",
       "      <td>SBT123</td>\n",
       "      <td>top of atmosphere</td>\n",
       "      <td>anl</td>\n",
       "    </tr>\n",
       "    <tr>\n",
       "      <th>168.0</th>\n",
       "      <td>141229104</td>\n",
       "      <td>142911191</td>\n",
       "      <td>141229104-142911191</td>\n",
       "      <td>2021-07-11</td>\n",
       "      <td>2021-07-11</td>\n",
       "      <td>SBT124</td>\n",
       "      <td>top of atmosphere</td>\n",
       "      <td>anl</td>\n",
       "    </tr>\n",
       "    <tr>\n",
       "      <th>169.0</th>\n",
       "      <td>142911191</td>\n",
       "      <td>144486508</td>\n",
       "      <td>142911191-144486508</td>\n",
       "      <td>2021-07-11</td>\n",
       "      <td>2021-07-11</td>\n",
       "      <td>SBT113</td>\n",
       "      <td>top of atmosphere</td>\n",
       "      <td>anl</td>\n",
       "    </tr>\n",
       "    <tr>\n",
       "      <th>170.0</th>\n",
       "      <td>144486508</td>\n",
       "      <td></td>\n",
       "      <td>144486508-</td>\n",
       "      <td>2021-07-11</td>\n",
       "      <td>2021-07-11</td>\n",
       "      <td>SBT114</td>\n",
       "      <td>top of atmosphere</td>\n",
       "      <td>anl</td>\n",
       "    </tr>\n",
       "  </tbody>\n",
       "</table>\n",
       "<p>170 rows × 8 columns</p>\n",
       "</div>"
      ],
      "text/plain": [
       "              start_byte   end_byte                range reference_time  \\\n",
       "grib_message                                                              \n",
       "1.0                    0     337178             0-337178     2021-07-11   \n",
       "2.0               337178     607315        337178-607315     2021-07-11   \n",
       "3.0               607315     995253        607315-995253     2021-07-11   \n",
       "4.0               995253    1284042       995253-1284042     2021-07-11   \n",
       "5.0              1284042    2586598      1284042-2586598     2021-07-11   \n",
       "...                  ...        ...                  ...            ...   \n",
       "166.0          139549353  139549586  139549353-139549586     2021-07-11   \n",
       "167.0          139549586  141229104  139549586-141229104     2021-07-11   \n",
       "168.0          141229104  142911191  141229104-142911191     2021-07-11   \n",
       "169.0          142911191  144486508  142911191-144486508     2021-07-11   \n",
       "170.0          144486508                      144486508-     2021-07-11   \n",
       "\n",
       "             valid_time                                           variable  \\\n",
       "grib_message                                                                 \n",
       "1.0          2021-07-11                                               REFC   \n",
       "2.0          2021-07-11                                              RETOP   \n",
       "3.0          2021-07-11  var discipline=0 center=7 local_table=1 parmca...   \n",
       "4.0          2021-07-11                                                VIL   \n",
       "5.0          2021-07-11                                                VIS   \n",
       "...                 ...                                                ...   \n",
       "166.0        2021-07-11                                               ICEC   \n",
       "167.0        2021-07-11                                             SBT123   \n",
       "168.0        2021-07-11                                             SBT124   \n",
       "169.0        2021-07-11                                             SBT113   \n",
       "170.0        2021-07-11                                             SBT114   \n",
       "\n",
       "                          level forecast_time  \n",
       "grib_message                                   \n",
       "1.0           entire atmosphere           anl  \n",
       "2.0                   cloud top           anl  \n",
       "3.0           entire atmosphere           anl  \n",
       "4.0           entire atmosphere           anl  \n",
       "5.0                     surface           anl  \n",
       "...                         ...           ...  \n",
       "166.0                   surface           anl  \n",
       "167.0         top of atmosphere           anl  \n",
       "168.0         top of atmosphere           anl  \n",
       "169.0         top of atmosphere           anl  \n",
       "170.0         top of atmosphere           anl  \n",
       "\n",
       "[170 rows x 8 columns]"
      ]
     },
     "execution_count": 3,
     "metadata": {},
     "output_type": "execute_result"
    }
   ],
   "source": [
    "H.read_idx()"
   ]
  },
  {
   "cell_type": "code",
   "execution_count": 2,
   "metadata": {},
   "outputs": [
    {
     "name": "stderr",
     "output_type": "stream",
     "text": [
      "/p/home/blaylock/BB_python/Herbie/herbie/archive.py:217: UserWarning: `product` not specified. Will use [\"historical/analysis\"].\n",
      "  warnings.warn(f'`product` not specified. Will use [\"{self.product}\"].')\n"
     ]
    },
    {
     "name": "stdout",
     "output_type": "stream",
     "text": [
      "🏋🏻‍♂️ Found \u001b[32m2014-Sep-01 00:00 UTC F00\u001b[m [RAP_NCEI] [product=historical/analysis] GRIB2 file from \u001b[31mncei\u001b[m and index file from \u001b[31mncei\u001b[m.                                                                                                                                                       \n"
     ]
    }
   ],
   "source": [
    "H = Herbie(\"2014-09-01\", model=\"rap_ncei\")"
   ]
  },
  {
   "cell_type": "code",
   "execution_count": 4,
   "metadata": {},
   "outputs": [
    {
     "name": "stdout",
     "output_type": "stream",
     "text": [
      "CPU times: user 16.3 ms, sys: 59 ms, total: 75.2 ms\n",
      "Wall time: 596 ms\n"
     ]
    },
    {
     "data": {
      "text/plain": [
       "'146082347'"
      ]
     },
     "execution_count": 4,
     "metadata": {},
     "output_type": "execute_result"
    }
   ],
   "source": [
    "%%time\n",
    "requests.get(H.grib, stream=True).headers[\"Content-length\"]"
   ]
  },
  {
   "cell_type": "code",
   "execution_count": 13,
   "metadata": {},
   "outputs": [
    {
     "data": {
      "text/plain": [
       "{'x-amz-id-2': 'Eset1Wc9PO2KyRCWYcio0o0r3WsyX6jdYh1e7BiuYf7K+sVfdVyR4GjbBkObMxPC3XgjoD6B06o=', 'x-amz-request-id': 'MJSFFYRQR71R1M76', 'Date': 'Sat, 20 Nov 2021 16:00:00 GMT', 'Last-Modified': 'Sun, 11 Jul 2021 00:53:34 GMT', 'ETag': '\"e0d3611314b4192a3d96753c26ec4c1e\"', 'Accept-Ranges': 'bytes', 'Content-Type': 'binary/octet-stream', 'Server': 'AmazonS3', 'Content-Length': '146082347'}"
      ]
     },
     "execution_count": 13,
     "metadata": {},
     "output_type": "execute_result"
    }
   ],
   "source": [
    "requests.get(H.grib, stream=True).headers"
   ]
  },
  {
   "cell_type": "code",
   "execution_count": null,
   "metadata": {},
   "outputs": [],
   "source": [
    "144486508\n",
    "146082347"
   ]
  },
  {
   "cell_type": "code",
   "execution_count": 10,
   "metadata": {},
   "outputs": [
    {
     "data": {
      "text/plain": [
       "True"
      ]
     },
     "execution_count": 10,
     "metadata": {},
     "output_type": "execute_result"
    }
   ],
   "source": [
    "H.idx is not None and H.grib is not None"
   ]
  },
  {
   "cell_type": "code",
   "execution_count": 3,
   "metadata": {},
   "outputs": [
    {
     "name": "stdout",
     "output_type": "stream",
     "text": [
      "🐜 self.IDX_SUFFIX=['.grb2.inv', '.inv']\n",
      "🐜 idx_url='https://www.ncei.noaa.gov/data/rapid-refresh/access/historical/analysis/201909/20190901/rap_130_20190901_0000_000.grb2.inv'\n",
      "🐜 idx_exists=False\n",
      "🐜 idx_url='https://www.ncei.noaa.gov/data/rapid-refresh/access/historical/analysis/201909/20190901/rap_130_20190901_0000_000.inv'\n",
      "🐜 idx_exists=True\n"
     ]
    },
    {
     "data": {
      "text/plain": [
       "(True,\n",
       " 'https://www.ncei.noaa.gov/data/rapid-refresh/access/historical/analysis/201909/20190901/rap_130_20190901_0000_000.inv')"
      ]
     },
     "execution_count": 3,
     "metadata": {},
     "output_type": "execute_result"
    }
   ],
   "source": [
    "H._check_idx(H.grib, verbose=True)"
   ]
  },
  {
   "cell_type": "code",
   "execution_count": 10,
   "metadata": {},
   "outputs": [
    {
     "name": "stdout",
     "output_type": "stream",
     "text": [
      ".grb2.inv\n",
      "https://www.ncei.noaa.gov/data/rapid-refresh/access/historical/analysis/201909/20190901/rap_130_20190901_0000_000.grb2.inv\n",
      ".inv\n",
      "https://www.ncei.noaa.gov/data/rapid-refresh/access/historical/analysis/201909/20190901/rap_130_20190901_0000_000.inv\n",
      "True https://www.ncei.noaa.gov/data/rapid-refresh/access/historical/analysis/201909/20190901/rap_130_20190901_0000_000.inv\n"
     ]
    }
   ],
   "source": [
    "url = H.SOURCES[\"ncei\"]\n",
    "for i in H.IDX_SUFFIX:\n",
    "    idx_url = url.rsplit(\".\", maxsplit=1)[0] + i\n",
    "    print(idx_url)\n",
    "    idx_exists = requests.head(idx_url).ok\n",
    "    if idx_exists:\n",
    "        print(idx_exists, idx_url)"
   ]
  },
  {
   "cell_type": "code",
   "execution_count": 9,
   "metadata": {},
   "outputs": [
    {
     "name": "stdout",
     "output_type": "stream",
     "text": [
      "⚠\n"
     ]
    }
   ],
   "source": [
    "print(\"⚠\")"
   ]
  },
  {
   "cell_type": "code",
   "execution_count": 23,
   "metadata": {},
   "outputs": [],
   "source": [
    "import requests"
   ]
  },
  {
   "cell_type": "code",
   "execution_count": 25,
   "metadata": {},
   "outputs": [
    {
     "data": {
      "text/plain": [
       "<Response [404]>"
      ]
     },
     "execution_count": 25,
     "metadata": {},
     "output_type": "execute_result"
    }
   ],
   "source": [
    "requests.head(\n",
    "    \"https://noaa-rap-pds.s3.amazonaws.com/rap.20140101/rap.t00z.awp130pgrbf00.grib2.idx\"\n",
    ")"
   ]
  },
  {
   "cell_type": "code",
   "execution_count": 29,
   "metadata": {},
   "outputs": [
    {
     "data": {
      "text/plain": [
       "'https:/noaa-rap-pds.s3.amazonaws.com/rap.20140101/rap.t00z.awp130pgrbf00'"
      ]
     },
     "execution_count": 29,
     "metadata": {},
     "output_type": "execute_result"
    }
   ],
   "source": [
    "url = \"https:/noaa-rap-pds.s3.amazonaws.com/rap.20140101/rap.t00z.awp130pgrbf00.grib2\"\n",
    "url.rsplit(\".\", maxsplit=1)[0]"
   ]
  },
  {
   "cell_type": "code",
   "execution_count": null,
   "metadata": {},
   "outputs": [],
   "source": [
    "https://noaa-rap-pds.s3.amazonaws.com/rap.20210101/rap.t00z.awp130pgrbf00.grib2.idx\n",
    "https://noaa-rap-pds.s3.amazonaws.com/rap.20210410/rap.t00z.awip32f04.grib2.idx"
   ]
  }
 ],
 "metadata": {
  "interpreter": {
   "hash": "be373bfa07014b934957e8e33960394fc213c6f297c90cf5ee7744b821edab0d"
  },
  "kernelspec": {
   "display_name": "Python 3.9.7 64-bit ('herbie': conda)",
   "language": "python",
   "name": "python3"
  },
  "language_info": {
   "codemirror_mode": {
    "name": "ipython",
    "version": 3
   },
   "file_extension": ".py",
   "mimetype": "text/x-python",
   "name": "python",
   "nbconvert_exporter": "python",
   "pygments_lexer": "ipython3",
   "version": "3.9.7"
  },
  "orig_nbformat": 4
 },
 "nbformat": 4,
 "nbformat_minor": 2
}

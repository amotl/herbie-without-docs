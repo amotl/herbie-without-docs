{
 "cells": [
  {
   "cell_type": "code",
   "execution_count": 1,
   "metadata": {},
   "outputs": [],
   "source": [
    "from herbie.tools import bulk_download\n",
    "import pandas as pd"
   ]
  },
  {
   "cell_type": "code",
   "execution_count": 2,
   "metadata": {},
   "outputs": [],
   "source": [
    "from herbie.archive import Herbie"
   ]
  },
  {
   "cell_type": "code",
   "execution_count": 3,
   "metadata": {},
   "outputs": [
    {
     "name": "stdout",
     "output_type": "stream",
     "text": [
      "🏋🏻‍♂️ Found \u001b[32m2017-Oct-01 00:00 UTC F00\u001b[m [HRRR] [product=prs] GRIB2 file from \u001b[31maws\u001b[m and index file from \u001b[31maws\u001b[m.                                                                                                                                                       \n",
      "🌉 Already have local copy --> /p/cwfs/blaylock/data/hrrr/20171001/hrrr.t00z.wrfprsf00.grib2.subset_71498633cb14ac0f58a9efbcb28ba0029d0b823b\n"
     ]
    }
   ],
   "source": [
    "H = Herbie(\n",
    "    '2017-10-01', \n",
    "    model='HRRR',\n",
    "    fxx=0,\n",
    "    product=\"prs\"\n",
    ")\n",
    "H.download(searchString=\":500 mb\")"
   ]
  },
  {
   "cell_type": "code",
   "execution_count": 4,
   "metadata": {},
   "outputs": [
    {
     "name": "stdout",
     "output_type": "stream",
     "text": [
      "👨🏻‍🔬 Check which requested files exists\n",
      "🏋🏻‍♂️ Found \u001b[32m2017-Oct-01 18:00 UTC F00\u001b[m [HRRR] [product=prs] GRIB2 file from \u001b[31maws\u001b[m and index file from \u001b[31maws\u001b[m.                                                                                                                                                       \n",
      "🏋🏻‍♂️ Found \u001b[32m2017-Oct-01 19:00 UTC F00\u001b[m [HRRR] [product=prs] GRIB2 file from \u001b[31maws\u001b[m and index file from \u001b[31maws\u001b[m.                                                                                                                                                       \n",
      "💔 Did not find a GRIB2 or Index File for \u001b[32m2017-Oct-01 20:00 UTC F00\u001b[m HRRR                                                                                                     \n",
      "🏋🏻‍♂️ Found \u001b[32m2017-Oct-01 21:00 UTC F00\u001b[m [HRRR] [product=prs] GRIB2 file from \u001b[31maws\u001b[m and index file from \u001b[31maws\u001b[m.                                                                                                                                                       \n",
      "🏋🏻‍♂️ Found \u001b[32m2017-Oct-01 22:00 UTC F00\u001b[m [HRRR] [product=prs] GRIB2 file from \u001b[31maws\u001b[m and index file from \u001b[31maws\u001b[m.                                                                                                                                                       \n",
      "🏋🏻‍♂️ Found \u001b[32m2017-Oct-01 23:00 UTC F00\u001b[m [HRRR] [product=prs] GRIB2 file from \u001b[31maws\u001b[m and index file from \u001b[31maws\u001b[m.                                                                                                                                                       \n",
      "\n",
      "🌧 Download requested data\n",
      "🌉 Already have local copy --> /p/cwfs/blaylock/data/hrrr/20171001/hrrr.t18z.wrfprsf00.grib2.subset_71498633cb14ac0f58a9efbcb28ba0029d0b823b\n",
      "🚛💨 Download Progress: [1/6 completed] >> Est. Time Remaining 0:00:02.157210  \n",
      "\n",
      "🌉 Already have local copy --> /p/cwfs/blaylock/data/hrrr/20171001/hrrr.t19z.wrfprsf00.grib2.subset_71498633cb14ac0f58a9efbcb28ba0029d0b823b\n",
      "🚛💨 Download Progress: [2/6 completed] >> Est. Time Remaining 0:00:01.805216  \n",
      "\n",
      "WARNING: No index file found for None.\n",
      "🚛💨 Download Progress: [3/6 completed] >> Est. Time Remaining 0:00:01.805216  \n",
      "\n",
      "🌉 Already have local copy --> /p/cwfs/blaylock/data/hrrr/20171001/hrrr.t21z.wrfprsf00.grib2.subset_71498633cb14ac0f58a9efbcb28ba0029d0b823b\n",
      "🚛💨 Download Progress: [4/6 completed] >> Est. Time Remaining 0:00:00.664554  \n",
      "\n",
      "🌉 Already have local copy --> /p/cwfs/blaylock/data/hrrr/20171001/hrrr.t22z.wrfprsf00.grib2.subset_71498633cb14ac0f58a9efbcb28ba0029d0b823b\n",
      "🚛💨 Download Progress: [5/6 completed] >> Est. Time Remaining 0:00:00.350796  \n",
      "\n",
      "🌉 Already have local copy --> /p/cwfs/blaylock/data/hrrr/20171001/hrrr.t23z.wrfprsf00.grib2.subset_71498633cb14ac0f58a9efbcb28ba0029d0b823b\n",
      "🚛💨 Download Progress: [6/6 completed] >> Est. Time Remaining 0:00:00         \n",
      "\n",
      "🍦 Done! Downloaded [1/6] files. Timer=0:00:02.182725\n"
     ]
    }
   ],
   "source": [
    "DATES = pd.date_range('2017-10-01 18:00', '2017-10-01 23:00', freq='1H')\n",
    "\n",
    "h = bulk_download(\n",
    "    DATES,\n",
    "    model='hrrr',\n",
    "    fxx=0,\n",
    "    product='prs',\n",
    "    searchString=\":500 mb\"\n",
    ")"
   ]
  },
  {
   "cell_type": "code",
   "execution_count": 5,
   "metadata": {},
   "outputs": [
    {
     "data": {
      "text/plain": [
       "{'success': [[HRRR] model [prs] product run at \u001b[32m2017-Oct-01 18:00 UTC F00\u001b[m,\n",
       "  [HRRR] model [prs] product run at \u001b[32m2017-Oct-01 19:00 UTC F00\u001b[m,\n",
       "  [HRRR] model [prs] product run at \u001b[32m2017-Oct-01 21:00 UTC F00\u001b[m,\n",
       "  [HRRR] model [prs] product run at \u001b[32m2017-Oct-01 22:00 UTC F00\u001b[m,\n",
       "  [HRRR] model [prs] product run at \u001b[32m2017-Oct-01 23:00 UTC F00\u001b[m],\n",
       " 'failed': [[HRRR] model [prs] product run at \u001b[32m2017-Oct-01 20:00 UTC F00\u001b[m]}"
      ]
     },
     "execution_count": 5,
     "metadata": {},
     "output_type": "execute_result"
    }
   ],
   "source": [
    "h"
   ]
  },
  {
   "cell_type": "code",
   "execution_count": null,
   "metadata": {},
   "outputs": [],
   "source": []
  }
 ],
 "metadata": {
  "interpreter": {
   "hash": "be373bfa07014b934957e8e33960394fc213c6f297c90cf5ee7744b821edab0d"
  },
  "kernelspec": {
   "display_name": "Python 3.9.5 64-bit ('herbie': conda)",
   "language": "python",
   "name": "python3"
  },
  "language_info": {
   "codemirror_mode": {
    "name": "ipython",
    "version": 3
   },
   "file_extension": ".py",
   "mimetype": "text/x-python",
   "name": "python",
   "nbconvert_exporter": "python",
   "pygments_lexer": "ipython3",
   "version": "3.9.5"
  },
  "orig_nbformat": 4
 },
 "nbformat": 4,
 "nbformat_minor": 2
}

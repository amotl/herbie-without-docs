{
 "cells": [
  {
   "cell_type": "markdown",
   "metadata": {},
   "source": [
    "# [Issue 42](https://github.com/blaylockbk/Herbie/issues/42)\n",
    "Herbie can't find GFS index files"
   ]
  },
  {
   "cell_type": "code",
   "execution_count": 1,
   "metadata": {},
   "outputs": [],
   "source": [
    "from herbie.archive import Herbie\n",
    "from pathlib import Path"
   ]
  },
  {
   "cell_type": "code",
   "execution_count": 2,
   "metadata": {},
   "outputs": [
    {
     "name": "stdout",
     "output_type": "stream",
     "text": [
      "🏋🏻‍♂️ Found \u001b[32m2022-Feb-09 00:00 UTC F00\u001b[m [GFS] [product=pgrb2.0p25] GRIB2 file from \u001b[31mlocal\u001b[m and index file from \u001b[31maws\u001b[m.                                                                                                                                                       \n"
     ]
    },
    {
     "data": {
      "text/plain": [
       "(PosixPath('/p/cwfs/blaylock/data/gfs/20220209/gfs.t00z.pgrb2.0p25.f000'),\n",
       " 'https://noaa-gfs-bdp-pds.s3.amazonaws.com/gfs.20220209/00/atmos/gfs.t00z.pgrb2.0p25.f000.idx',\n",
       " ['.idx'])"
      ]
     },
     "execution_count": 2,
     "metadata": {},
     "output_type": "execute_result"
    }
   ],
   "source": [
    "date = \"2022-02-09T00:00\"\n",
    "fxx = 0\n",
    "\n",
    "H = Herbie(\n",
    "    date,\n",
    "    priority=\"aws\",\n",
    "    product=\"pgrb2.0p25\",\n",
    "    model=\"gfs\",\n",
    "    fxx=fxx,\n",
    ")\n",
    "\n",
    "H.grib, H.idx, H.IDX_SUFFIX"
   ]
  },
  {
   "cell_type": "code",
   "execution_count": 3,
   "metadata": {},
   "outputs": [
    {
     "name": "stdout",
     "output_type": "stream",
     "text": [
      "🏋🏻‍♂️ Found \u001b[32m2022-Feb-09 00:00 UTC F00\u001b[m [GFS] [product=pgrb2.0p25] GRIB2 file from \u001b[31mlocal\u001b[m and index file from \u001b[31maws\u001b[m.                                                                                                                                                       \n"
     ]
    },
    {
     "data": {
      "text/plain": [
       "(PosixPath('/p/cwfs/blaylock/data/gfs/20220209/gfs.t00z.pgrb2.0p25.f000'),\n",
       " 'https://noaa-gfs-bdp-pds.s3.amazonaws.com/gfs.20220209/00/atmos/gfs.t00z.pgrb2.0p25.f000.idx',\n",
       " ['.idx'])"
      ]
     },
     "execution_count": 3,
     "metadata": {},
     "output_type": "execute_result"
    }
   ],
   "source": [
    "date = \"2022-02-09T00:00\"\n",
    "fxx = 0\n",
    "\n",
    "H = Herbie(\n",
    "    date,\n",
    "    priority=\"aws\",\n",
    "    product=\"pgrb2.0p25\",\n",
    "    model=\"gfs\",\n",
    "    fxx=fxx,\n",
    "    IDX_SUFFIX='.idx'\n",
    ")\n",
    "\n",
    "H.grib, H.idx, H.IDX_SUFFIX"
   ]
  },
  {
   "cell_type": "code",
   "execution_count": 4,
   "metadata": {},
   "outputs": [
    {
     "name": "stdout",
     "output_type": "stream",
     "text": [
      "🌉 Already have local copy --> /p/cwfs/blaylock/data/gfs/20220209/gfs.t00z.pgrb2.0p25.f000\n"
     ]
    }
   ],
   "source": [
    "H.download()"
   ]
  },
  {
   "cell_type": "code",
   "execution_count": 7,
   "metadata": {},
   "outputs": [
    {
     "ename": "AssertionError",
     "evalue": "The value is none",
     "output_type": "error",
     "traceback": [
      "\u001b[0;31m---------------------------------------------------------------------------\u001b[0m",
      "\u001b[0;31mAssertionError\u001b[0m                            Traceback (most recent call last)",
      "\u001b[0;32m/p/work1/tmp/blaylock/ipykernel_20498/489210286.py\u001b[0m in \u001b[0;36m<module>\u001b[0;34m\u001b[0m\n\u001b[0;32m----> 1\u001b[0;31m \u001b[0;32massert\u001b[0m \u001b[0;32mNone\u001b[0m\u001b[0;34m,\u001b[0m \u001b[0;34m\"The value is none\"\u001b[0m\u001b[0;34m\u001b[0m\u001b[0;34m\u001b[0m\u001b[0m\n\u001b[0m",
      "\u001b[0;31mAssertionError\u001b[0m: The value is none"
     ]
    }
   ],
   "source": [
    "assert None, \"The value is none\""
   ]
  },
  {
   "cell_type": "code",
   "execution_count": null,
   "metadata": {},
   "outputs": [],
   "source": []
  }
 ],
 "metadata": {
  "interpreter": {
   "hash": "be373bfa07014b934957e8e33960394fc213c6f297c90cf5ee7744b821edab0d"
  },
  "kernelspec": {
   "display_name": "Python 3.9.5 64-bit ('herbie': conda)",
   "language": "python",
   "name": "python3"
  },
  "language_info": {
   "codemirror_mode": {
    "name": "ipython",
    "version": 3
   },
   "file_extension": ".py",
   "mimetype": "text/x-python",
   "name": "python",
   "nbconvert_exporter": "python",
   "pygments_lexer": "ipython3",
   "version": "3.9.5"
  },
  "orig_nbformat": 4
 },
 "nbformat": 4,
 "nbformat_minor": 2
}

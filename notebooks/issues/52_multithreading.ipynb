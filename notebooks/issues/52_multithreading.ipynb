{
 "cells": [
  {
   "cell_type": "markdown",
   "metadata": {},
   "source": [
    "# 52: Try multithreading for downloads"
   ]
  },
  {
   "cell_type": "code",
   "execution_count": 1,
   "metadata": {},
   "outputs": [],
   "source": [
    "from herbie.archive import Herbie"
   ]
  },
  {
   "cell_type": "code",
   "execution_count": 2,
   "metadata": {},
   "outputs": [
    {
     "name": "stderr",
     "output_type": "stream",
     "text": [
      "c:\\Users\\blayl_depgywe\\BB_python\\Herbie\\herbie\\archive.py:287: UserWarning: `product` not specified. Will use [\"sfc\"].\n",
      "  warnings.warn(f'`product` not specified. Will use [\"{self.product}\"].')\n"
     ]
    },
    {
     "name": "stdout",
     "output_type": "stream",
     "text": [
      "🏋🏻‍♂️ Found \u001b[32m2021-Jan-01 00:00 UTC F00\u001b[m [HRRR] [product=sfc] GRIB2 file from \u001b[31maws\u001b[m and index file from \u001b[31maws\u001b[m.                                                                                                                                                       \n"
     ]
    }
   ],
   "source": [
    "H = Herbie('2021-1-1', )"
   ]
  },
  {
   "cell_type": "code",
   "execution_count": 3,
   "metadata": {},
   "outputs": [
    {
     "data": {
      "text/plain": [
       "'https://noaa-hrrr-bdp-pds.s3.amazonaws.com/hrrr.20210101/conus/hrrr.t00z.wrfsfcf00.grib2'"
      ]
     },
     "execution_count": 3,
     "metadata": {},
     "output_type": "execute_result"
    }
   ],
   "source": [
    "H.grib"
   ]
  },
  {
   "cell_type": "code",
   "execution_count": 2,
   "metadata": {},
   "outputs": [],
   "source": [
    "import re\n",
    "from os.path import join\n",
    "from os import makedirs\n",
    "from urllib.request import urlopen\n",
    "from concurrent.futures import ThreadPoolExecutor\n",
    "from concurrent.futures import as_completed\n",
    "\n",
    "\n",
    "from datetime import datetime"
   ]
  },
  {
   "cell_type": "code",
   "execution_count": 3,
   "metadata": {},
   "outputs": [],
   "source": [
    "from herbie.archive import Herbie"
   ]
  },
  {
   "cell_type": "code",
   "execution_count": 11,
   "metadata": {},
   "outputs": [
    {
     "data": {
      "text/plain": [
       "[[HRRR] model [sfc] product run at \u001b[32m2021-Jan-01 00:00 UTC F00\u001b[m,\n",
       " [HRRR] model [sfc] product run at \u001b[32m2021-Jan-01 00:00 UTC F01\u001b[m,\n",
       " [HRRR] model [sfc] product run at \u001b[32m2021-Jan-01 00:00 UTC F02\u001b[m,\n",
       " [HRRR] model [sfc] product run at \u001b[32m2021-Jan-01 00:00 UTC F03\u001b[m,\n",
       " [HRRR] model [sfc] product run at \u001b[32m2021-Jan-01 00:00 UTC F04\u001b[m,\n",
       " [HRRR] model [sfc] product run at \u001b[32m2021-Jan-01 00:00 UTC F05\u001b[m,\n",
       " [HRRR] model [sfc] product run at \u001b[32m2021-Jan-01 00:00 UTC F06\u001b[m,\n",
       " [HRRR] model [sfc] product run at \u001b[32m2021-Jan-01 00:00 UTC F07\u001b[m,\n",
       " [HRRR] model [sfc] product run at \u001b[32m2021-Jan-01 00:00 UTC F08\u001b[m,\n",
       " [HRRR] model [sfc] product run at \u001b[32m2021-Jan-01 00:00 UTC F09\u001b[m,\n",
       " [HRRR] model [sfc] product run at \u001b[32m2021-Jan-01 00:00 UTC F10\u001b[m,\n",
       " [HRRR] model [sfc] product run at \u001b[32m2021-Jan-01 00:00 UTC F11\u001b[m,\n",
       " [HRRR] model [sfc] product run at \u001b[32m2021-Jan-01 00:00 UTC F12\u001b[m,\n",
       " [HRRR] model [sfc] product run at \u001b[32m2021-Jan-01 00:00 UTC F13\u001b[m,\n",
       " [HRRR] model [sfc] product run at \u001b[32m2021-Jan-01 00:00 UTC F14\u001b[m]"
      ]
     },
     "execution_count": 11,
     "metadata": {},
     "output_type": "execute_result"
    }
   ],
   "source": [
    "H = [Herbie('2021-01-01', model='hrrr', product='sfc', fxx=i, verbose=False) for i in range(15)]\n",
    "H"
   ]
  },
  {
   "cell_type": "code",
   "execution_count": 12,
   "metadata": {},
   "outputs": [
    {
     "name": "stdout",
     "output_type": "stream",
     "text": [
      "✅ Success! Downloaded HRRR from \u001b[38;5;202maws                 \u001b[m\n",
      "\tsrc: https://noaa-hrrr-bdp-pds.s3.amazonaws.com/hrrr.20210101/conus/hrrr.t00z.wrfsfcf02.grib2\n",
      "\tdst: C:\\Users\\blayl_depgywe\\data\\hrrr\\20210101\\hrrr.t00z.wrfsfcf02.grib2\n",
      "None\n",
      "✅ Success! Downloaded HRRR from \u001b[38;5;202maws                 \u001b[m\n",
      "\tsrc: https://noaa-hrrr-bdp-pds.s3.amazonaws.com/hrrr.20210101/conus/hrrr.t00z.wrfsfcf03.grib2\n",
      "\tdst: C:\\Users\\blayl_depgywe\\data\\hrrr\\20210101\\hrrr.t00z.wrfsfcf03.grib2\n",
      "None\n",
      "✅ Success! Downloaded HRRR from \u001b[38;5;202maws                 \u001b[m\n",
      "\tsrc: https://noaa-hrrr-bdp-pds.s3.amazonaws.com/hrrr.20210101/conus/hrrr.t00z.wrfsfcf01.grib2\n",
      "\tdst: C:\\Users\\blayl_depgywe\\data\\hrrr\\20210101\\hrrr.t00z.wrfsfcf01.grib2\n",
      "None\n",
      "✅ Success! Downloaded HRRR from \u001b[38;5;202maws                 \u001b[m\n",
      "\tsrc: https://noaa-hrrr-bdp-pds.s3.amazonaws.com/hrrr.20210101/conus/hrrr.t00z.wrfsfcf05.grib2\n",
      "\tdst: C:\\Users\\blayl_depgywe\\data\\hrrr\\20210101\\hrrr.t00z.wrfsfcf05.grib2\n",
      "None\n",
      "✅ Success! Downloaded HRRR from \u001b[38;5;202maws                 \u001b[m\n",
      "\tsrc: https://noaa-hrrr-bdp-pds.s3.amazonaws.com/hrrr.20210101/conus/hrrr.t00z.wrfsfcf06.grib2\n",
      "\tdst: C:\\Users\\blayl_depgywe\\data\\hrrr\\20210101\\hrrr.t00z.wrfsfcf06.grib2\n",
      "🚛💨  Download Progress: 94.59% of 140.7 MB\n",
      "✅ Success! Downloaded HRRR from \u001b[38;5;202maws                 \u001b[m\n",
      "\tsrc: https://noaa-hrrr-bdp-pds.s3.amazonaws.com/hrrr.20210101/conus/hrrr.t00z.wrfsfcf00.grib2\n",
      "\tdst: C:\\Users\\blayl_depgywe\\data\\hrrr\\20210101\\hrrr.t00z.wrfsfcf00.grib2\n",
      "None\n",
      "✅ Success! Downloaded HRRR from \u001b[38;5;202maws                 \u001b[m\n",
      "\tsrc: https://noaa-hrrr-bdp-pds.s3.amazonaws.com/hrrr.20210101/conus/hrrr.t00z.wrfsfcf04.grib2\n",
      "\tdst: C:\\Users\\blayl_depgywe\\data\\hrrr\\20210101\\hrrr.t00z.wrfsfcf04.grib2\n",
      "None\n",
      "✅ Success! Downloaded HRRR from \u001b[38;5;202maws                 \u001b[m\n",
      "\tsrc: https://noaa-hrrr-bdp-pds.s3.amazonaws.com/hrrr.20210101/conus/hrrr.t00z.wrfsfcf07.grib2\n",
      "\tdst: C:\\Users\\blayl_depgywe\\data\\hrrr\\20210101\\hrrr.t00z.wrfsfcf07.grib2\n",
      "🚛💨  Download Progress: 46.21% of 156.0 MB\n",
      "✅ Success! Downloaded HRRR from \u001b[38;5;202maws                 \u001b[m\n",
      "\tsrc: https://noaa-hrrr-bdp-pds.s3.amazonaws.com/hrrr.20210101/conus/hrrr.t00z.wrfsfcf10.grib2\n",
      "\tdst: C:\\Users\\blayl_depgywe\\data\\hrrr\\20210101\\hrrr.t00z.wrfsfcf10.grib2\n",
      "None\n",
      "✅ Success! Downloaded HRRR from \u001b[38;5;202maws                 \u001b[m\n",
      "\tsrc: https://noaa-hrrr-bdp-pds.s3.amazonaws.com/hrrr.20210101/conus/hrrr.t00z.wrfsfcf08.grib2\n",
      "🚛💨  Download Progress: 61.04% of 155.2 MB\n",
      "🚛💨  Download Progress: 61.05% of 155.2 MB\n",
      "✅ Success! Downloaded HRRR from \u001b[38;5;202maws                 \u001b[m\n",
      "\tsrc: https://noaa-hrrr-bdp-pds.s3.amazonaws.com/hrrr.20210101/conus/hrrr.t00z.wrfsfcf09.grib2\n",
      "\tdst: C:\\Users\\blayl_depgywe\\data\\hrrr\\20210101\\hrrr.t00z.wrfsfcf09.grib2\n",
      "None\n",
      "✅ Success! Downloaded HRRR from \u001b[38;5;202maws                 \u001b[m\n",
      "\tsrc: https://noaa-hrrr-bdp-pds.s3.amazonaws.com/hrrr.20210101/conus/hrrr.t00z.wrfsfcf13.grib2\n",
      "\tdst: C:\\Users\\blayl_depgywe\\data\\hrrr\\20210101\\hrrr.t00z.wrfsfcf13.grib2\n",
      "🚛💨  Download Progress: 69.21% of 157.7 MB\n",
      "✅ Success! Downloaded HRRR from \u001b[38;5;202maws                 \u001b[m\n",
      "\tsrc: https://noaa-hrrr-bdp-pds.s3.amazonaws.com/hrrr.20210101/conus/hrrr.t00z.wrfsfcf11.grib2\n",
      "🚛💨  Download Progress: 81.06% of 157.7 MB\n",
      "None\n",
      "✅ Success! Downloaded HRRR from \u001b[38;5;202maws                 \u001b[m\n",
      "\tsrc: https://noaa-hrrr-bdp-pds.s3.amazonaws.com/hrrr.20210101/conus/hrrr.t00z.wrfsfcf12.grib2\n",
      "\tdst: C:\\Users\\blayl_depgywe\\data\\hrrr\\20210101\\hrrr.t00z.wrfsfcf12.grib2\n",
      "None\n",
      "✅ Success! Downloaded HRRR from \u001b[38;5;202maws                 \u001b[m\n",
      "\tsrc: https://noaa-hrrr-bdp-pds.s3.amazonaws.com/hrrr.20210101/conus/hrrr.t00z.wrfsfcf14.grib2\n",
      "\tdst: C:\\Users\\blayl_depgywe\\data\\hrrr\\20210101\\hrrr.t00z.wrfsfcf14.grib2\n",
      "None\n",
      "CPU times: total: 2min 31s\n",
      "Wall time: 3min 27s\n"
     ]
    }
   ],
   "source": [
    "%%time\n",
    "\n",
    "## Use MultThreading to download multiple files concurrently\n",
    "\n",
    "with ThreadPoolExecutor(5) as exe:\n",
    "    futures = [exe.submit(h.download) for h in H]\n",
    "    for future in as_completed(futures):\n",
    "        print(future.result())\n"
   ]
  },
  {
   "cell_type": "code",
   "execution_count": 13,
   "metadata": {},
   "outputs": [
    {
     "data": {
      "text/plain": [
       "[[HRRR] model [sfc] product run at \u001b[32m2021-Jan-02 00:00 UTC F00\u001b[m,\n",
       " [HRRR] model [sfc] product run at \u001b[32m2021-Jan-02 00:00 UTC F01\u001b[m,\n",
       " [HRRR] model [sfc] product run at \u001b[32m2021-Jan-02 00:00 UTC F02\u001b[m,\n",
       " [HRRR] model [sfc] product run at \u001b[32m2021-Jan-02 00:00 UTC F03\u001b[m,\n",
       " [HRRR] model [sfc] product run at \u001b[32m2021-Jan-02 00:00 UTC F04\u001b[m,\n",
       " [HRRR] model [sfc] product run at \u001b[32m2021-Jan-02 00:00 UTC F05\u001b[m,\n",
       " [HRRR] model [sfc] product run at \u001b[32m2021-Jan-02 00:00 UTC F06\u001b[m,\n",
       " [HRRR] model [sfc] product run at \u001b[32m2021-Jan-02 00:00 UTC F07\u001b[m,\n",
       " [HRRR] model [sfc] product run at \u001b[32m2021-Jan-02 00:00 UTC F08\u001b[m,\n",
       " [HRRR] model [sfc] product run at \u001b[32m2021-Jan-02 00:00 UTC F09\u001b[m,\n",
       " [HRRR] model [sfc] product run at \u001b[32m2021-Jan-02 00:00 UTC F10\u001b[m,\n",
       " [HRRR] model [sfc] product run at \u001b[32m2021-Jan-02 00:00 UTC F11\u001b[m,\n",
       " [HRRR] model [sfc] product run at \u001b[32m2021-Jan-02 00:00 UTC F12\u001b[m,\n",
       " [HRRR] model [sfc] product run at \u001b[32m2021-Jan-02 00:00 UTC F13\u001b[m,\n",
       " [HRRR] model [sfc] product run at \u001b[32m2021-Jan-02 00:00 UTC F14\u001b[m]"
      ]
     },
     "execution_count": 13,
     "metadata": {},
     "output_type": "execute_result"
    }
   ],
   "source": [
    "H = [Herbie('2021-01-02', model='hrrr', product='sfc', fxx=i, verbose=False) for i in range(15)]\n",
    "H"
   ]
  },
  {
   "cell_type": "code",
   "execution_count": 14,
   "metadata": {},
   "outputs": [
    {
     "name": "stdout",
     "output_type": "stream",
     "text": [
      "✅ Success! Downloaded HRRR from \u001b[38;5;202maws                 \u001b[m\n",
      "\tsrc: https://noaa-hrrr-bdp-pds.s3.amazonaws.com/hrrr.20210102/conus/hrrr.t00z.wrfsfcf00.grib2\n",
      "\tdst: C:\\Users\\blayl_depgywe\\data\\hrrr\\20210102\\hrrr.t00z.wrfsfcf00.grib2\n",
      "✅ Success! Downloaded HRRR from \u001b[38;5;202maws                 \u001b[m\n",
      "\tsrc: https://noaa-hrrr-bdp-pds.s3.amazonaws.com/hrrr.20210102/conus/hrrr.t00z.wrfsfcf01.grib2\n",
      "\tdst: C:\\Users\\blayl_depgywe\\data\\hrrr\\20210102\\hrrr.t00z.wrfsfcf01.grib2\n",
      "✅ Success! Downloaded HRRR from \u001b[38;5;202maws                 \u001b[m\n",
      "\tsrc: https://noaa-hrrr-bdp-pds.s3.amazonaws.com/hrrr.20210102/conus/hrrr.t00z.wrfsfcf02.grib2\n",
      "\tdst: C:\\Users\\blayl_depgywe\\data\\hrrr\\20210102\\hrrr.t00z.wrfsfcf02.grib2\n",
      "✅ Success! Downloaded HRRR from \u001b[38;5;202maws                 \u001b[m\n",
      "\tsrc: https://noaa-hrrr-bdp-pds.s3.amazonaws.com/hrrr.20210102/conus/hrrr.t00z.wrfsfcf03.grib2\n",
      "\tdst: C:\\Users\\blayl_depgywe\\data\\hrrr\\20210102\\hrrr.t00z.wrfsfcf03.grib2\n",
      "✅ Success! Downloaded HRRR from \u001b[38;5;202maws                 \u001b[m\n",
      "\tsrc: https://noaa-hrrr-bdp-pds.s3.amazonaws.com/hrrr.20210102/conus/hrrr.t00z.wrfsfcf04.grib2\n",
      "\tdst: C:\\Users\\blayl_depgywe\\data\\hrrr\\20210102\\hrrr.t00z.wrfsfcf04.grib2\n",
      "✅ Success! Downloaded HRRR from \u001b[38;5;202maws                 \u001b[m\n",
      "\tsrc: https://noaa-hrrr-bdp-pds.s3.amazonaws.com/hrrr.20210102/conus/hrrr.t00z.wrfsfcf05.grib2\n",
      "\tdst: C:\\Users\\blayl_depgywe\\data\\hrrr\\20210102\\hrrr.t00z.wrfsfcf05.grib2\n",
      "✅ Success! Downloaded HRRR from \u001b[38;5;202maws                 \u001b[m\n",
      "\tsrc: https://noaa-hrrr-bdp-pds.s3.amazonaws.com/hrrr.20210102/conus/hrrr.t00z.wrfsfcf06.grib2\n",
      "\tdst: C:\\Users\\blayl_depgywe\\data\\hrrr\\20210102\\hrrr.t00z.wrfsfcf06.grib2\n",
      "✅ Success! Downloaded HRRR from \u001b[38;5;202maws                 \u001b[m\n",
      "\tsrc: https://noaa-hrrr-bdp-pds.s3.amazonaws.com/hrrr.20210102/conus/hrrr.t00z.wrfsfcf07.grib2\n",
      "\tdst: C:\\Users\\blayl_depgywe\\data\\hrrr\\20210102\\hrrr.t00z.wrfsfcf07.grib2\n",
      "✅ Success! Downloaded HRRR from \u001b[38;5;202maws                 \u001b[m\n",
      "\tsrc: https://noaa-hrrr-bdp-pds.s3.amazonaws.com/hrrr.20210102/conus/hrrr.t00z.wrfsfcf08.grib2\n",
      "\tdst: C:\\Users\\blayl_depgywe\\data\\hrrr\\20210102\\hrrr.t00z.wrfsfcf08.grib2\n",
      "✅ Success! Downloaded HRRR from \u001b[38;5;202maws                 \u001b[m\n",
      "\tsrc: https://noaa-hrrr-bdp-pds.s3.amazonaws.com/hrrr.20210102/conus/hrrr.t00z.wrfsfcf09.grib2\n",
      "\tdst: C:\\Users\\blayl_depgywe\\data\\hrrr\\20210102\\hrrr.t00z.wrfsfcf09.grib2\n",
      "✅ Success! Downloaded HRRR from \u001b[38;5;202maws                 \u001b[m\n",
      "\tsrc: https://noaa-hrrr-bdp-pds.s3.amazonaws.com/hrrr.20210102/conus/hrrr.t00z.wrfsfcf10.grib2\n",
      "\tdst: C:\\Users\\blayl_depgywe\\data\\hrrr\\20210102\\hrrr.t00z.wrfsfcf10.grib2\n",
      "✅ Success! Downloaded HRRR from \u001b[38;5;202maws                 \u001b[m\n",
      "\tsrc: https://noaa-hrrr-bdp-pds.s3.amazonaws.com/hrrr.20210102/conus/hrrr.t00z.wrfsfcf11.grib2\n",
      "\tdst: C:\\Users\\blayl_depgywe\\data\\hrrr\\20210102\\hrrr.t00z.wrfsfcf11.grib2\n",
      "✅ Success! Downloaded HRRR from \u001b[38;5;202maws                 \u001b[m\n",
      "\tsrc: https://noaa-hrrr-bdp-pds.s3.amazonaws.com/hrrr.20210102/conus/hrrr.t00z.wrfsfcf12.grib2\n",
      "\tdst: C:\\Users\\blayl_depgywe\\data\\hrrr\\20210102\\hrrr.t00z.wrfsfcf12.grib2\n",
      "✅ Success! Downloaded HRRR from \u001b[38;5;202maws                 \u001b[m\n",
      "\tsrc: https://noaa-hrrr-bdp-pds.s3.amazonaws.com/hrrr.20210102/conus/hrrr.t00z.wrfsfcf13.grib2\n",
      "\tdst: C:\\Users\\blayl_depgywe\\data\\hrrr\\20210102\\hrrr.t00z.wrfsfcf13.grib2\n",
      "✅ Success! Downloaded HRRR from \u001b[38;5;202maws                 \u001b[m\n",
      "\tsrc: https://noaa-hrrr-bdp-pds.s3.amazonaws.com/hrrr.20210102/conus/hrrr.t00z.wrfsfcf14.grib2\n",
      "\tdst: C:\\Users\\blayl_depgywe\\data\\hrrr\\20210102\\hrrr.t00z.wrfsfcf14.grib2\n",
      "CPU times: total: 2min 50s\n",
      "Wall time: 5min 8s\n"
     ]
    },
    {
     "data": {
      "text/plain": [
       "[None,\n",
       " None,\n",
       " None,\n",
       " None,\n",
       " None,\n",
       " None,\n",
       " None,\n",
       " None,\n",
       " None,\n",
       " None,\n",
       " None,\n",
       " None,\n",
       " None,\n",
       " None,\n",
       " None]"
      ]
     },
     "execution_count": 14,
     "metadata": {},
     "output_type": "execute_result"
    }
   ],
   "source": [
    "%%time\n",
    "\n",
    "## Download files sequentially\n",
    "\n",
    "[h.download() for h in H]"
   ]
  },
  {
   "cell_type": "markdown",
   "metadata": {},
   "source": [
    "## Results\n",
    "\n",
    "In this simple test, it is slightly faster to download many GRIB2 files with multthreading\n",
    "\n",
    "|Files| MultiThreading (5 threads)| Sequential  | Percent Change |\n",
    "|-----|---------------------------|-------------|----------------|\n",
    "|  5  | 1 min 14 sec              | 1 min 25 sec| -12.94% |\n",
    "| 15  | 3 min 27 sec              | 5 min  8 sec| -32.79% |\n",
    "\n",
    "\n",
    "Proably no performance gained for subsetting, due to the compute done to evaluate the byte range. Possiblity would need to use MultiProcessing."
   ]
  },
  {
   "cell_type": "code",
   "execution_count": 15,
   "metadata": {},
   "outputs": [
    {
     "data": {
      "text/plain": [
       "207"
      ]
     },
     "execution_count": 15,
     "metadata": {},
     "output_type": "execute_result"
    }
   ],
   "source": [
    "3*60+27"
   ]
  },
  {
   "cell_type": "code",
   "execution_count": 16,
   "metadata": {},
   "outputs": [
    {
     "data": {
      "text/plain": [
       "308"
      ]
     },
     "execution_count": 16,
     "metadata": {},
     "output_type": "execute_result"
    }
   ],
   "source": [
    "5*60+8"
   ]
  },
  {
   "cell_type": "code",
   "execution_count": null,
   "metadata": {},
   "outputs": [],
   "source": []
  }
 ],
 "metadata": {
  "interpreter": {
   "hash": "0eba95b783a86a65db7d6a4369f83058cbe3c96541785e1688217987e5cba802"
  },
  "kernelspec": {
   "display_name": "Python 3.9.10 64-bit ('herbie': conda)",
   "language": "python",
   "name": "python3"
  },
  "language_info": {
   "codemirror_mode": {
    "name": "ipython",
    "version": 3
   },
   "file_extension": ".py",
   "mimetype": "text/x-python",
   "name": "python",
   "nbconvert_exporter": "python",
   "pygments_lexer": "ipython3",
   "version": "3.9.10"
  },
  "orig_nbformat": 4
 },
 "nbformat": 4,
 "nbformat_minor": 2
}

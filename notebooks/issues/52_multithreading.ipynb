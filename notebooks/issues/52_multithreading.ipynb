{
 "cells": [
  {
   "cell_type": "markdown",
   "metadata": {},
   "source": [
    "# 52: Try multithreading for downloads"
   ]
  },
  {
   "cell_type": "code",
   "execution_count": 2,
   "metadata": {},
   "outputs": [
    {
     "name": "stdout",
     "output_type": "stream",
     "text": [
      "🥳 Herbie loaded your custom templates.\n"
     ]
    }
   ],
   "source": [
    "from herbie.archive import Herbie"
   ]
  },
  {
   "cell_type": "code",
   "execution_count": 3,
   "metadata": {},
   "outputs": [
    {
     "name": "stdout",
     "output_type": "stream",
     "text": [
      "🏋🏻‍♂️ Found \u001b[32m2021-Jan-01 00:00 UTC F00\u001b[0m [HRRR] [product=sfc] GRIB2 file from \u001b[31mlocal\u001b[0m and index file from \u001b[31maws\u001b[0m.                                                                                                                                                       \n"
     ]
    }
   ],
   "source": [
    "H = Herbie('2021-1-1')"
   ]
  },
  {
   "cell_type": "code",
   "execution_count": 38,
   "metadata": {},
   "outputs": [],
   "source": [
    "import pandas as pd\n",
    "\n",
    "import re\n",
    "from os.path import join\n",
    "from os import makedirs\n",
    "from urllib.request import urlopen\n",
    "from concurrent.futures import ThreadPoolExecutor\n",
    "from concurrent.futures import as_completed, wait\n",
    "\n",
    "from datetime import datetime"
   ]
  },
  {
   "cell_type": "code",
   "execution_count": 18,
   "metadata": {},
   "outputs": [
    {
     "data": {
      "text/plain": [
       "DatetimeIndex(['2021-01-01 00:00:00', '2021-01-01 01:00:00',\n",
       "               '2021-01-01 02:00:00', '2021-01-01 03:00:00',\n",
       "               '2021-01-01 04:00:00', '2021-01-01 05:00:00',\n",
       "               '2021-01-01 06:00:00', '2021-01-01 07:00:00',\n",
       "               '2021-01-01 08:00:00', '2021-01-01 09:00:00',\n",
       "               '2021-01-01 10:00:00', '2021-01-01 11:00:00',\n",
       "               '2021-01-01 12:00:00', '2021-01-01 13:00:00',\n",
       "               '2021-01-01 14:00:00', '2021-01-01 15:00:00',\n",
       "               '2021-01-01 16:00:00', '2021-01-01 17:00:00',\n",
       "               '2021-01-01 18:00:00', '2021-01-01 19:00:00',\n",
       "               '2021-01-01 20:00:00', '2021-01-01 21:00:00',\n",
       "               '2021-01-01 22:00:00', '2021-01-01 23:00:00'],\n",
       "              dtype='datetime64[ns]', freq='H')"
      ]
     },
     "execution_count": 18,
     "metadata": {},
     "output_type": "execute_result"
    }
   ],
   "source": [
    "DATES = pd.date_range('2021-01-01', periods=24, freq='h')\n",
    "DATES"
   ]
  },
  {
   "cell_type": "code",
   "execution_count": 19,
   "metadata": {},
   "outputs": [
    {
     "name": "stdout",
     "output_type": "stream",
     "text": [
      "CPU times: user 856 ms, sys: 81.4 ms, total: 937 ms\n",
      "Wall time: 16.1 s\n"
     ]
    },
    {
     "data": {
      "text/plain": [
       "48"
      ]
     },
     "execution_count": 19,
     "metadata": {},
     "output_type": "execute_result"
    }
   ],
   "source": [
    "%%time\n",
    "H = [Herbie(DATE, model='hrrr', product='sfc', fxx=fxx, verbose=False) for DATE in DATES for fxx in range(2)]\n",
    "len(H)"
   ]
  },
  {
   "cell_type": "code",
   "execution_count": 20,
   "metadata": {},
   "outputs": [
    {
     "name": "stdout",
     "output_type": "stream",
     "text": [
      "🚛💨  Download Progress: 68.41% of 140.7 MBB\n",
      "🚛💨  Download Progress: 86.64% of 137.4 MBB\n",
      "🚛💨  Download Progress: 85.40% of 148.1 MBB\n",
      "🚛💨  Download Progress: 3.78% of 137.2 MBB\n",
      "🚛💨  Download Progress: 39.76% of 147.8 MBB\n",
      "🚛💨  Download Progress: 56.98% of 138.1 MBB\n",
      "🚛💨  Download Progress: 57.29% of 148.8 MBB\n",
      "🚛💨  Download Progress: 98.91% of 138.1 MBB\n",
      "🚛💨  Download Progress: 85.78% of 148.8 MBB\n",
      "🚛💨  Download Progress: 51.90% of 138.0 MBB\n",
      "🚛💨  Download Progress: 50.35% of 149.0 MBB\n",
      "None  Download Progress: 69.11% of 149.0 MBB\n",
      "🚛💨  Download Progress: 93.64% of 138.5 MBB\n",
      "None  Download Progress: 30.15% of 137.1 MBB\n",
      "🚛💨  Download Progress: 41.31% of 147.7 MBB\n",
      "🚛💨  Download Progress: 77.16% of 147.7 MBB\n",
      "🚛💨  Download Progress: 50.86% of 137.7 MBB\n",
      "None  Download Progress: 47.01% of 139.1 MBB\n",
      "🚛💨  Download Progress: 37.25% of 148.4 MBB\n",
      "🚛💨  Download Progress: 12.65% of 148.7 MBB\n",
      "None  Download Progress: 17.06% of 139.8 MBB\n",
      "🚛💨  Download Progress: 6.32% of 150.7 MBBB\n",
      "🚛💨  Download Progress: 16.02% of 142.1 MBB\n",
      "None  Download Progress: 45.06% of 142.1 MBB\n",
      "🚛💨  Download Progress: 54.94% of 154.9 MBB\n",
      "🚛💨  Download Progress: 38.61% of 145.0 MBB\n",
      "None  Download Progress: 75.39% of 138.3 MBB\n",
      "None  Download Progress: 58.99% of 157.7 MBB\n",
      "🚛💨  Download Progress: 16.71% of 158.3 MB\n",
      "🚛💨  Download Progress: 29.83% of 159.3 MBB\n",
      "🚛💨  Download Progress: 55.35% of 158.3 MB\n",
      "None  Download Progress: 92.16% of 159.3 MBB\n",
      "🚛💨  Download Progress: 96.32% of 158.3 MBB\n",
      "None  Download Progress: 81.05% of 148.9 MBB\n",
      "🚛💨  Download Progress: 6.06% of 159.2 MBBB\n",
      "🚛💨  Download Progress: 96.04% of 156.7 MBB\n",
      "None  Download Progress: 11.30% of 159.2 MBB\n",
      "🚛💨  Download Progress: 9.71% of 158.5 MBBB\n",
      "None  Download Progress: 37.20% of 159.2 MBB\n",
      "🚛💨  Download Progress: 72.02% of 158.5 MBB\n",
      "🚛💨  Download Progress: 78.77% of 158.5 MBB\n",
      "None  Download Progress: 49.11% of 149.1 MBB\n",
      "🚛💨  Download Progress: 56.99% of 141.2 MBB\n",
      "🚛💨  Download Progress: 66.10% of 143.4 MBB\n",
      "None  Download Progress: 99.03% of 151.9 MBB\n",
      "🚛💨  Download Progress: 42.60% of 147.9 MBB\n",
      "🚛💨  Download Progress: 42.65% of 147.9 MB\n",
      "None  Download Progress: 100.00% of 147.9 MB\n",
      "CPU times: user 1min 6s, sys: 1min 2s, total: 2min 9s\n",
      "Wall time: 1min 21s\n"
     ]
    }
   ],
   "source": [
    "%%time\n",
    "\n",
    "## Use MultThreading to download multiple files concurrently\n",
    "\n",
    "with ThreadPoolExecutor(5) as exe:\n",
    "    futures = [exe.submit(h.download, overwrite=True, verbose=False) for h in H]\n",
    "    for future in as_completed(futures):\n",
    "        print(future.result())\n"
   ]
  },
  {
   "cell_type": "code",
   "execution_count": 13,
   "metadata": {},
   "outputs": [
    {
     "data": {
      "text/plain": [
       "[[HRRR] model [sfc] product run at \u001b[32m2021-Jan-02 00:00 UTC F00\u001b[m,\n",
       " [HRRR] model [sfc] product run at \u001b[32m2021-Jan-02 00:00 UTC F01\u001b[m,\n",
       " [HRRR] model [sfc] product run at \u001b[32m2021-Jan-02 00:00 UTC F02\u001b[m,\n",
       " [HRRR] model [sfc] product run at \u001b[32m2021-Jan-02 00:00 UTC F03\u001b[m,\n",
       " [HRRR] model [sfc] product run at \u001b[32m2021-Jan-02 00:00 UTC F04\u001b[m,\n",
       " [HRRR] model [sfc] product run at \u001b[32m2021-Jan-02 00:00 UTC F05\u001b[m,\n",
       " [HRRR] model [sfc] product run at \u001b[32m2021-Jan-02 00:00 UTC F06\u001b[m,\n",
       " [HRRR] model [sfc] product run at \u001b[32m2021-Jan-02 00:00 UTC F07\u001b[m,\n",
       " [HRRR] model [sfc] product run at \u001b[32m2021-Jan-02 00:00 UTC F08\u001b[m,\n",
       " [HRRR] model [sfc] product run at \u001b[32m2021-Jan-02 00:00 UTC F09\u001b[m,\n",
       " [HRRR] model [sfc] product run at \u001b[32m2021-Jan-02 00:00 UTC F10\u001b[m,\n",
       " [HRRR] model [sfc] product run at \u001b[32m2021-Jan-02 00:00 UTC F11\u001b[m,\n",
       " [HRRR] model [sfc] product run at \u001b[32m2021-Jan-02 00:00 UTC F12\u001b[m,\n",
       " [HRRR] model [sfc] product run at \u001b[32m2021-Jan-02 00:00 UTC F13\u001b[m,\n",
       " [HRRR] model [sfc] product run at \u001b[32m2021-Jan-02 00:00 UTC F14\u001b[m]"
      ]
     },
     "execution_count": 13,
     "metadata": {},
     "output_type": "execute_result"
    }
   ],
   "source": [
    "H = [Herbie('2021-01-02', model='hrrr', product='sfc', fxx=i, verbose=False) for i in range(15)]\n",
    "H"
   ]
  },
  {
   "cell_type": "code",
   "execution_count": 21,
   "metadata": {},
   "outputs": [
    {
     "name": "stdout",
     "output_type": "stream",
     "text": [
      "CPU times: user 1min 5s, sys: 56.6 s, total: 2min 2s\n",
      "Wall time: 2min 59s\n"
     ]
    },
    {
     "data": {
      "text/plain": [
       "[None,\n",
       " None,\n",
       " None,\n",
       " None,\n",
       " None,\n",
       " None,\n",
       " None,\n",
       " None,\n",
       " None,\n",
       " None,\n",
       " None,\n",
       " None,\n",
       " None,\n",
       " None,\n",
       " None,\n",
       " None,\n",
       " None,\n",
       " None,\n",
       " None,\n",
       " None,\n",
       " None,\n",
       " None,\n",
       " None,\n",
       " None,\n",
       " None,\n",
       " None,\n",
       " None,\n",
       " None,\n",
       " None,\n",
       " None,\n",
       " None,\n",
       " None,\n",
       " None,\n",
       " None,\n",
       " None,\n",
       " None,\n",
       " None,\n",
       " None,\n",
       " None,\n",
       " None,\n",
       " None,\n",
       " None,\n",
       " None,\n",
       " None,\n",
       " None,\n",
       " None,\n",
       " None,\n",
       " None]"
      ]
     },
     "execution_count": 21,
     "metadata": {},
     "output_type": "execute_result"
    }
   ],
   "source": [
    "%%time\n",
    "\n",
    "## Download files sequentially\n",
    "\n",
    "[h.download(verbose=False, overwrite=True) for h in H]"
   ]
  },
  {
   "cell_type": "markdown",
   "metadata": {},
   "source": [
    "## Multithreadding for Herbie Downloads: `H.download()`\n",
    "\n",
    "In this simple test, it is slightly faster to download many GRIB2 files with multthreading\n",
    "\n",
    "On my windows laptop on home network:\n",
    "\n",
    "|Files| MultiThreading (5 threads)| Sequential  | Percent Change |\n",
    "|-----|---------------------------|-------------|----------------|\n",
    "|  5  | 1 min 14 sec              | 1 min 25 sec|     -12.94%    |\n",
    "| 15  | 3 min 27 sec              | 5 min  8 sec|     -32.79%    |\n",
    "\n",
    "\n",
    "On an HPC linux system:\n",
    "\n",
    "|Files| MultiThreading (5 threads)| Sequential  | Percent Change |\n",
    "|-----|---------------------------|-------------|----------------|\n",
    "|  5  | 0 min 17 sec              | 0 min 13 sec|     +30%       |\n",
    "| 15  | 0 min 32 sec              | 0 min 50 sec|     -36%       |\n",
    "| 48  | 1 min 21 sec              | 2 min 59 sec|    -54.7%      |\n",
    "\n",
    "For a small handful of files (<10ish), it seems sequential download is faster.\n",
    "\n",
    "Probably no performance gained for subsetting, due to the compute done to evaluate the byte range. Possibility would need to use MultiProcessing."
   ]
  },
  {
   "cell_type": "markdown",
   "metadata": {},
   "source": [
    "# MultiThreading to create Herbie Objects: `Herbie()`\n",
    "Does multithreading offer speedup for creating Herbie objects (checking if file exists in an archive)\n",
    "\n",
    "Yes! Multithreading offers great speedup for creating many Herbie objects\n",
    "\n",
    "\n",
    "On an HPC linux system:\n",
    "\n",
    "|Files| MultiThreading (5 threads)| Sequential     | Percent Change |\n",
    "|-----|---------------------------|----------------|----------------|\n",
    "| 48  | 0 min 1.67 sec            | 0 min  7.86 sec|    -97.9%       |\n",
    "| 288 | 0 min 17 sec              | 1 min  26 sec  |    -80.2%       |"
   ]
  },
  {
   "cell_type": "code",
   "execution_count": 30,
   "metadata": {},
   "outputs": [
    {
     "name": "stdout",
     "output_type": "stream",
     "text": [
      "CPU times: user 4.69 s, sys: 394 ms, total: 5.08 s\n",
      "Wall time: 1min 26s\n"
     ]
    },
    {
     "data": {
      "text/plain": [
       "288"
      ]
     },
     "execution_count": 30,
     "metadata": {},
     "output_type": "execute_result"
    }
   ],
   "source": [
    "%%time\n",
    "H = [Herbie(DATE, model='hrrr', product='sfc', fxx=fxx, verbose=False) for DATE in DATES for fxx in range(12)]\n",
    "len(H)"
   ]
  },
  {
   "cell_type": "code",
   "execution_count": 31,
   "metadata": {},
   "outputs": [
    {
     "data": {
      "text/plain": [
       "288"
      ]
     },
     "execution_count": 31,
     "metadata": {},
     "output_type": "execute_result"
    }
   ],
   "source": [
    "len(H)"
   ]
  },
  {
   "cell_type": "code",
   "execution_count": 53,
   "metadata": {},
   "outputs": [
    {
     "name": "stdout",
     "output_type": "stream",
     "text": [
      "CPU times: user 4.37 s, sys: 342 ms, total: 4.72 s\n",
      "Wall time: 16.9 s\n"
     ]
    }
   ],
   "source": [
    "%%time\n",
    "\n",
    "## Use MultThreading to create Herbie objects\n",
    "\n",
    "with ThreadPoolExecutor(5) as exe:\n",
    "    futures = [exe.submit(Herbie, DATE, model='hrrr', produce='sfc', fxx=fxx, verbose=False) for DATE in DATES for fxx in range(12)]\n",
    "    \n",
    "    # Return list of Herbie objects in order completed\n",
    "    #data = [future.result() for future in as_completed(futures)]\n",
    "    \n",
    "    # Return list of Herbie objects in order submitted\n",
    "    futures, _ = wait(futures)\n",
    "    data = [future.result() for future in futures]"
   ]
  },
  {
   "cell_type": "code",
   "execution_count": 55,
   "metadata": {},
   "outputs": [
    {
     "data": {
      "text/plain": [
       "(288,\n",
       " [[HRRR] model [sfc] product run at \u001b[32m2021-Jan-01 08:00 UTC F06\u001b[0m,\n",
       "  [HRRR] model [sfc] product run at \u001b[32m2021-Jan-01 23:00 UTC F11\u001b[0m,\n",
       "  [HRRR] model [sfc] product run at \u001b[32m2021-Jan-01 18:00 UTC F04\u001b[0m,\n",
       "  [HRRR] model [sfc] product run at \u001b[32m2021-Jan-01 12:00 UTC F09\u001b[0m,\n",
       "  [HRRR] model [sfc] product run at \u001b[32m2021-Jan-01 14:00 UTC F02\u001b[0m,\n",
       "  [HRRR] model [sfc] product run at \u001b[32m2021-Jan-01 21:00 UTC F02\u001b[0m,\n",
       "  [HRRR] model [sfc] product run at \u001b[32m2021-Jan-01 04:00 UTC F01\u001b[0m,\n",
       "  [HRRR] model [sfc] product run at \u001b[32m2021-Jan-01 08:00 UTC F07\u001b[0m,\n",
       "  [HRRR] model [sfc] product run at \u001b[32m2021-Jan-01 18:00 UTC F05\u001b[0m,\n",
       "  [HRRR] model [sfc] product run at \u001b[32m2021-Jan-01 00:00 UTC F08\u001b[0m,\n",
       "  [HRRR] model [sfc] product run at \u001b[32m2021-Jan-01 12:00 UTC F10\u001b[0m,\n",
       "  [HRRR] model [sfc] product run at \u001b[32m2021-Jan-01 02:00 UTC F02\u001b[0m,\n",
       "  [HRRR] model [sfc] product run at \u001b[32m2021-Jan-01 05:00 UTC F08\u001b[0m,\n",
       "  [HRRR] model [sfc] product run at \u001b[32m2021-Jan-01 14:00 UTC F03\u001b[0m,\n",
       "  [HRRR] model [sfc] product run at \u001b[32m2021-Jan-01 01:00 UTC F07\u001b[0m,\n",
       "  [HRRR] model [sfc] product run at \u001b[32m2021-Jan-01 04:00 UTC F09\u001b[0m,\n",
       "  [HRRR] model [sfc] product run at \u001b[32m2021-Jan-01 08:00 UTC F08\u001b[0m,\n",
       "  [HRRR] model [sfc] product run at \u001b[32m2021-Jan-01 21:00 UTC F03\u001b[0m,\n",
       "  [HRRR] model [sfc] product run at \u001b[32m2021-Jan-01 03:00 UTC F09\u001b[0m,\n",
       "  [HRRR] model [sfc] product run at \u001b[32m2021-Jan-01 18:00 UTC F06\u001b[0m,\n",
       "  [HRRR] model [sfc] product run at \u001b[32m2021-Jan-01 12:00 UTC F11\u001b[0m,\n",
       "  [HRRR] model [sfc] product run at \u001b[32m2021-Jan-01 14:00 UTC F04\u001b[0m,\n",
       "  [HRRR] model [sfc] product run at \u001b[32m2021-Jan-01 21:00 UTC F04\u001b[0m,\n",
       "  [HRRR] model [sfc] product run at \u001b[32m2021-Jan-01 08:00 UTC F09\u001b[0m,\n",
       "  [HRRR] model [sfc] product run at \u001b[32m2021-Jan-01 01:00 UTC F00\u001b[0m,\n",
       "  [HRRR] model [sfc] product run at \u001b[32m2021-Jan-01 02:00 UTC F01\u001b[0m,\n",
       "  [HRRR] model [sfc] product run at \u001b[32m2021-Jan-01 18:00 UTC F07\u001b[0m,\n",
       "  [HRRR] model [sfc] product run at \u001b[32m2021-Jan-01 04:00 UTC F07\u001b[0m,\n",
       "  [HRRR] model [sfc] product run at \u001b[32m2021-Jan-01 14:00 UTC F00\u001b[0m,\n",
       "  [HRRR] model [sfc] product run at \u001b[32m2021-Jan-01 05:00 UTC F10\u001b[0m,\n",
       "  [HRRR] model [sfc] product run at \u001b[32m2021-Jan-01 14:00 UTC F05\u001b[0m,\n",
       "  [HRRR] model [sfc] product run at \u001b[32m2021-Jan-01 21:00 UTC F05\u001b[0m,\n",
       "  [HRRR] model [sfc] product run at \u001b[32m2021-Jan-01 08:00 UTC F10\u001b[0m,\n",
       "  [HRRR] model [sfc] product run at \u001b[32m2021-Jan-01 00:00 UTC F00\u001b[0m,\n",
       "  [HRRR] model [sfc] product run at \u001b[32m2021-Jan-01 04:00 UTC F08\u001b[0m,\n",
       "  [HRRR] model [sfc] product run at \u001b[32m2021-Jan-01 18:00 UTC F08\u001b[0m,\n",
       "  [HRRR] model [sfc] product run at \u001b[32m2021-Jan-01 03:00 UTC F01\u001b[0m,\n",
       "  [HRRR] model [sfc] product run at \u001b[32m2021-Jan-01 13:00 UTC F01\u001b[0m,\n",
       "  [HRRR] model [sfc] product run at \u001b[32m2021-Jan-01 14:00 UTC F06\u001b[0m,\n",
       "  [HRRR] model [sfc] product run at \u001b[32m2021-Jan-01 21:00 UTC F06\u001b[0m,\n",
       "  [HRRR] model [sfc] product run at \u001b[32m2021-Jan-01 08:00 UTC F11\u001b[0m,\n",
       "  [HRRR] model [sfc] product run at \u001b[32m2021-Jan-01 00:00 UTC F03\u001b[0m,\n",
       "  [HRRR] model [sfc] product run at \u001b[32m2021-Jan-01 18:00 UTC F09\u001b[0m,\n",
       "  [HRRR] model [sfc] product run at \u001b[32m2021-Jan-01 03:00 UTC F08\u001b[0m,\n",
       "  [HRRR] model [sfc] product run at \u001b[32m2021-Jan-01 13:00 UTC F02\u001b[0m,\n",
       "  [HRRR] model [sfc] product run at \u001b[32m2021-Jan-01 06:00 UTC F01\u001b[0m,\n",
       "  [HRRR] model [sfc] product run at \u001b[32m2021-Jan-01 14:00 UTC F07\u001b[0m,\n",
       "  [HRRR] model [sfc] product run at \u001b[32m2021-Jan-01 21:00 UTC F07\u001b[0m,\n",
       "  [HRRR] model [sfc] product run at \u001b[32m2021-Jan-01 10:00 UTC F00\u001b[0m,\n",
       "  [HRRR] model [sfc] product run at \u001b[32m2021-Jan-01 18:00 UTC F10\u001b[0m,\n",
       "  [HRRR] model [sfc] product run at \u001b[32m2021-Jan-01 13:00 UTC F03\u001b[0m,\n",
       "  [HRRR] model [sfc] product run at \u001b[32m2021-Jan-01 14:00 UTC F08\u001b[0m,\n",
       "  [HRRR] model [sfc] product run at \u001b[32m2021-Jan-01 21:00 UTC F08\u001b[0m,\n",
       "  [HRRR] model [sfc] product run at \u001b[32m2021-Jan-01 09:00 UTC F01\u001b[0m,\n",
       "  [HRRR] model [sfc] product run at \u001b[32m2021-Jan-01 06:00 UTC F00\u001b[0m,\n",
       "  [HRRR] model [sfc] product run at \u001b[32m2021-Jan-01 12:00 UTC F08\u001b[0m,\n",
       "  [HRRR] model [sfc] product run at \u001b[32m2021-Jan-01 04:00 UTC F00\u001b[0m,\n",
       "  [HRRR] model [sfc] product run at \u001b[32m2021-Jan-01 18:00 UTC F11\u001b[0m,\n",
       "  [HRRR] model [sfc] product run at \u001b[32m2021-Jan-01 13:00 UTC F04\u001b[0m,\n",
       "  [HRRR] model [sfc] product run at \u001b[32m2021-Jan-01 03:00 UTC F03\u001b[0m,\n",
       "  [HRRR] model [sfc] product run at \u001b[32m2021-Jan-01 14:00 UTC F09\u001b[0m,\n",
       "  [HRRR] model [sfc] product run at \u001b[32m2021-Jan-01 21:00 UTC F09\u001b[0m,\n",
       "  [HRRR] model [sfc] product run at \u001b[32m2021-Jan-01 05:00 UTC F01\u001b[0m,\n",
       "  [HRRR] model [sfc] product run at \u001b[32m2021-Jan-01 09:00 UTC F02\u001b[0m,\n",
       "  [HRRR] model [sfc] product run at \u001b[32m2021-Jan-01 05:00 UTC F05\u001b[0m,\n",
       "  [HRRR] model [sfc] product run at \u001b[32m2021-Jan-01 03:00 UTC F07\u001b[0m,\n",
       "  [HRRR] model [sfc] product run at \u001b[32m2021-Jan-01 05:00 UTC F06\u001b[0m,\n",
       "  [HRRR] model [sfc] product run at \u001b[32m2021-Jan-01 11:00 UTC F03\u001b[0m,\n",
       "  [HRRR] model [sfc] product run at \u001b[32m2021-Jan-01 13:00 UTC F05\u001b[0m,\n",
       "  [HRRR] model [sfc] product run at \u001b[32m2021-Jan-01 20:00 UTC F00\u001b[0m,\n",
       "  [HRRR] model [sfc] product run at \u001b[32m2021-Jan-01 14:00 UTC F10\u001b[0m,\n",
       "  [HRRR] model [sfc] product run at \u001b[32m2021-Jan-01 21:00 UTC F10\u001b[0m,\n",
       "  [HRRR] model [sfc] product run at \u001b[32m2021-Jan-01 09:00 UTC F03\u001b[0m,\n",
       "  [HRRR] model [sfc] product run at \u001b[32m2021-Jan-01 01:00 UTC F08\u001b[0m,\n",
       "  [HRRR] model [sfc] product run at \u001b[32m2021-Jan-01 19:00 UTC F01\u001b[0m,\n",
       "  [HRRR] model [sfc] product run at \u001b[32m2021-Jan-01 13:00 UTC F06\u001b[0m,\n",
       "  [HRRR] model [sfc] product run at \u001b[32m2021-Jan-01 14:00 UTC F11\u001b[0m,\n",
       "  [HRRR] model [sfc] product run at \u001b[32m2021-Jan-01 21:00 UTC F11\u001b[0m,\n",
       "  [HRRR] model [sfc] product run at \u001b[32m2021-Jan-01 02:00 UTC F07\u001b[0m,\n",
       "  [HRRR] model [sfc] product run at \u001b[32m2021-Jan-01 09:00 UTC F04\u001b[0m,\n",
       "  [HRRR] model [sfc] product run at \u001b[32m2021-Jan-01 05:00 UTC F09\u001b[0m,\n",
       "  [HRRR] model [sfc] product run at \u001b[32m2021-Jan-01 19:00 UTC F02\u001b[0m,\n",
       "  [HRRR] model [sfc] product run at \u001b[32m2021-Jan-01 02:00 UTC F06\u001b[0m,\n",
       "  [HRRR] model [sfc] product run at \u001b[32m2021-Jan-01 03:00 UTC F02\u001b[0m,\n",
       "  [HRRR] model [sfc] product run at \u001b[32m2021-Jan-01 13:00 UTC F07\u001b[0m,\n",
       "  [HRRR] model [sfc] product run at \u001b[32m2021-Jan-01 02:00 UTC F08\u001b[0m,\n",
       "  [HRRR] model [sfc] product run at \u001b[32m2021-Jan-01 16:00 UTC F00\u001b[0m,\n",
       "  [HRRR] model [sfc] product run at \u001b[32m2021-Jan-01 23:00 UTC F00\u001b[0m,\n",
       "  [HRRR] model [sfc] product run at \u001b[32m2021-Jan-01 09:00 UTC F05\u001b[0m,\n",
       "  [HRRR] model [sfc] product run at \u001b[32m2021-Jan-01 19:00 UTC F03\u001b[0m,\n",
       "  [HRRR] model [sfc] product run at \u001b[32m2021-Jan-01 13:00 UTC F08\u001b[0m,\n",
       "  [HRRR] model [sfc] product run at \u001b[32m2021-Jan-01 15:00 UTC F01\u001b[0m,\n",
       "  [HRRR] model [sfc] product run at \u001b[32m2021-Jan-01 22:00 UTC F01\u001b[0m,\n",
       "  [HRRR] model [sfc] product run at \u001b[32m2021-Jan-01 04:00 UTC F11\u001b[0m,\n",
       "  [HRRR] model [sfc] product run at \u001b[32m2021-Jan-01 09:00 UTC F06\u001b[0m,\n",
       "  [HRRR] model [sfc] product run at \u001b[32m2021-Jan-01 05:00 UTC F11\u001b[0m,\n",
       "  [HRRR] model [sfc] product run at \u001b[32m2021-Jan-01 02:00 UTC F03\u001b[0m,\n",
       "  [HRRR] model [sfc] product run at \u001b[32m2021-Jan-01 04:00 UTC F10\u001b[0m,\n",
       "  [HRRR] model [sfc] product run at \u001b[32m2021-Jan-01 19:00 UTC F04\u001b[0m,\n",
       "  [HRRR] model [sfc] product run at \u001b[32m2021-Jan-01 13:00 UTC F09\u001b[0m,\n",
       "  [HRRR] model [sfc] product run at \u001b[32m2021-Jan-01 05:00 UTC F07\u001b[0m,\n",
       "  [HRRR] model [sfc] product run at \u001b[32m2021-Jan-01 15:00 UTC F02\u001b[0m,\n",
       "  [HRRR] model [sfc] product run at \u001b[32m2021-Jan-01 22:00 UTC F02\u001b[0m,\n",
       "  [HRRR] model [sfc] product run at \u001b[32m2021-Jan-01 09:00 UTC F07\u001b[0m,\n",
       "  [HRRR] model [sfc] product run at \u001b[32m2021-Jan-01 19:00 UTC F05\u001b[0m,\n",
       "  [HRRR] model [sfc] product run at \u001b[32m2021-Jan-01 13:00 UTC F10\u001b[0m,\n",
       "  [HRRR] model [sfc] product run at \u001b[32m2021-Jan-01 05:00 UTC F00\u001b[0m,\n",
       "  [HRRR] model [sfc] product run at \u001b[32m2021-Jan-01 00:00 UTC F01\u001b[0m,\n",
       "  [HRRR] model [sfc] product run at \u001b[32m2021-Jan-01 02:00 UTC F11\u001b[0m,\n",
       "  [HRRR] model [sfc] product run at \u001b[32m2021-Jan-01 03:00 UTC F00\u001b[0m,\n",
       "  [HRRR] model [sfc] product run at \u001b[32m2021-Jan-01 09:00 UTC F08\u001b[0m,\n",
       "  [HRRR] model [sfc] product run at \u001b[32m2021-Jan-01 15:00 UTC F03\u001b[0m,\n",
       "  [HRRR] model [sfc] product run at \u001b[32m2021-Jan-01 18:00 UTC F03\u001b[0m,\n",
       "  [HRRR] model [sfc] product run at \u001b[32m2021-Jan-01 22:00 UTC F03\u001b[0m,\n",
       "  [HRRR] model [sfc] product run at \u001b[32m2021-Jan-01 03:00 UTC F11\u001b[0m,\n",
       "  [HRRR] model [sfc] product run at \u001b[32m2021-Jan-01 19:00 UTC F06\u001b[0m,\n",
       "  [HRRR] model [sfc] product run at \u001b[32m2021-Jan-01 13:00 UTC F11\u001b[0m,\n",
       "  [HRRR] model [sfc] product run at \u001b[32m2021-Jan-01 05:00 UTC F02\u001b[0m,\n",
       "  [HRRR] model [sfc] product run at \u001b[32m2021-Jan-01 15:00 UTC F04\u001b[0m,\n",
       "  [HRRR] model [sfc] product run at \u001b[32m2021-Jan-01 22:00 UTC F04\u001b[0m,\n",
       "  [HRRR] model [sfc] product run at \u001b[32m2021-Jan-01 03:00 UTC F06\u001b[0m,\n",
       "  [HRRR] model [sfc] product run at \u001b[32m2021-Jan-01 03:00 UTC F10\u001b[0m,\n",
       "  [HRRR] model [sfc] product run at \u001b[32m2021-Jan-01 09:00 UTC F09\u001b[0m,\n",
       "  [HRRR] model [sfc] product run at \u001b[32m2021-Jan-01 07:00 UTC F00\u001b[0m,\n",
       "  [HRRR] model [sfc] product run at \u001b[32m2021-Jan-01 04:00 UTC F06\u001b[0m,\n",
       "  [HRRR] model [sfc] product run at \u001b[32m2021-Jan-01 19:00 UTC F07\u001b[0m,\n",
       "  [HRRR] model [sfc] product run at \u001b[32m2021-Jan-01 05:00 UTC F04\u001b[0m,\n",
       "  [HRRR] model [sfc] product run at \u001b[32m2021-Jan-01 15:00 UTC F00\u001b[0m,\n",
       "  [HRRR] model [sfc] product run at \u001b[32m2021-Jan-01 15:00 UTC F05\u001b[0m,\n",
       "  [HRRR] model [sfc] product run at \u001b[32m2021-Jan-01 22:00 UTC F05\u001b[0m,\n",
       "  [HRRR] model [sfc] product run at \u001b[32m2021-Jan-01 09:00 UTC F10\u001b[0m,\n",
       "  [HRRR] model [sfc] product run at \u001b[32m2021-Jan-01 03:00 UTC F05\u001b[0m,\n",
       "  [HRRR] model [sfc] product run at \u001b[32m2021-Jan-01 05:00 UTC F03\u001b[0m,\n",
       "  [HRRR] model [sfc] product run at \u001b[32m2021-Jan-01 19:00 UTC F08\u001b[0m,\n",
       "  [HRRR] model [sfc] product run at \u001b[32m2021-Jan-01 14:00 UTC F01\u001b[0m,\n",
       "  [HRRR] model [sfc] product run at \u001b[32m2021-Jan-01 00:00 UTC F04\u001b[0m,\n",
       "  [HRRR] model [sfc] product run at \u001b[32m2021-Jan-01 15:00 UTC F06\u001b[0m,\n",
       "  [HRRR] model [sfc] product run at \u001b[32m2021-Jan-01 22:00 UTC F06\u001b[0m,\n",
       "  [HRRR] model [sfc] product run at \u001b[32m2021-Jan-01 09:00 UTC F11\u001b[0m,\n",
       "  [HRRR] model [sfc] product run at \u001b[32m2021-Jan-01 16:00 UTC F11\u001b[0m,\n",
       "  [HRRR] model [sfc] product run at \u001b[32m2021-Jan-01 04:00 UTC F04\u001b[0m,\n",
       "  [HRRR] model [sfc] product run at \u001b[32m2021-Jan-01 06:00 UTC F11\u001b[0m,\n",
       "  [HRRR] model [sfc] product run at \u001b[32m2021-Jan-01 07:00 UTC F10\u001b[0m,\n",
       "  [HRRR] model [sfc] product run at \u001b[32m2021-Jan-01 06:00 UTC F08\u001b[0m,\n",
       "  [HRRR] model [sfc] product run at \u001b[32m2021-Jan-01 11:00 UTC F04\u001b[0m,\n",
       "  [HRRR] model [sfc] product run at \u001b[32m2021-Jan-01 19:00 UTC F09\u001b[0m,\n",
       "  [HRRR] model [sfc] product run at \u001b[32m2021-Jan-01 15:00 UTC F07\u001b[0m,\n",
       "  [HRRR] model [sfc] product run at \u001b[32m2021-Jan-01 22:00 UTC F07\u001b[0m,\n",
       "  [HRRR] model [sfc] product run at \u001b[32m2021-Jan-01 11:00 UTC F00\u001b[0m,\n",
       "  [HRRR] model [sfc] product run at \u001b[32m2021-Jan-01 18:00 UTC F00\u001b[0m,\n",
       "  [HRRR] model [sfc] product run at \u001b[32m2021-Jan-01 01:00 UTC F06\u001b[0m,\n",
       "  [HRRR] model [sfc] product run at \u001b[32m2021-Jan-01 11:00 UTC F05\u001b[0m,\n",
       "  [HRRR] model [sfc] product run at \u001b[32m2021-Jan-01 19:00 UTC F10\u001b[0m,\n",
       "  [HRRR] model [sfc] product run at \u001b[32m2021-Jan-01 15:00 UTC F08\u001b[0m,\n",
       "  [HRRR] model [sfc] product run at \u001b[32m2021-Jan-01 22:00 UTC F08\u001b[0m,\n",
       "  [HRRR] model [sfc] product run at \u001b[32m2021-Jan-01 10:00 UTC F01\u001b[0m,\n",
       "  [HRRR] model [sfc] product run at \u001b[32m2021-Jan-01 17:00 UTC F01\u001b[0m,\n",
       "  [HRRR] model [sfc] product run at \u001b[32m2021-Jan-01 07:00 UTC F05\u001b[0m,\n",
       "  [HRRR] model [sfc] product run at \u001b[32m2021-Jan-01 11:00 UTC F06\u001b[0m,\n",
       "  [HRRR] model [sfc] product run at \u001b[32m2021-Jan-01 08:00 UTC F05\u001b[0m,\n",
       "  [HRRR] model [sfc] product run at \u001b[32m2021-Jan-01 19:00 UTC F11\u001b[0m,\n",
       "  [HRRR] model [sfc] product run at \u001b[32m2021-Jan-01 15:00 UTC F09\u001b[0m,\n",
       "  [HRRR] model [sfc] product run at \u001b[32m2021-Jan-01 22:00 UTC F09\u001b[0m,\n",
       "  [HRRR] model [sfc] product run at \u001b[32m2021-Jan-01 00:00 UTC F10\u001b[0m,\n",
       "  [HRRR] model [sfc] product run at \u001b[32m2021-Jan-01 08:00 UTC F02\u001b[0m,\n",
       "  [HRRR] model [sfc] product run at \u001b[32m2021-Jan-01 10:00 UTC F02\u001b[0m,\n",
       "  [HRRR] model [sfc] product run at \u001b[32m2021-Jan-01 11:00 UTC F07\u001b[0m,\n",
       "  [HRRR] model [sfc] product run at \u001b[32m2021-Jan-01 17:00 UTC F02\u001b[0m,\n",
       "  [HRRR] model [sfc] product run at \u001b[32m2021-Jan-01 21:00 UTC F00\u001b[0m,\n",
       "  [HRRR] model [sfc] product run at \u001b[32m2021-Jan-01 15:00 UTC F10\u001b[0m,\n",
       "  [HRRR] model [sfc] product run at \u001b[32m2021-Jan-01 22:00 UTC F10\u001b[0m,\n",
       "  [HRRR] model [sfc] product run at \u001b[32m2021-Jan-01 04:00 UTC F05\u001b[0m,\n",
       "  [HRRR] model [sfc] product run at \u001b[32m2021-Jan-01 06:00 UTC F04\u001b[0m,\n",
       "  [HRRR] model [sfc] product run at \u001b[32m2021-Jan-01 10:00 UTC F03\u001b[0m,\n",
       "  [HRRR] model [sfc] product run at \u001b[32m2021-Jan-01 11:00 UTC F08\u001b[0m,\n",
       "  [HRRR] model [sfc] product run at \u001b[32m2021-Jan-01 17:00 UTC F03\u001b[0m,\n",
       "  [HRRR] model [sfc] product run at \u001b[32m2021-Jan-01 01:00 UTC F02\u001b[0m,\n",
       "  [HRRR] model [sfc] product run at \u001b[32m2021-Jan-01 02:00 UTC F10\u001b[0m,\n",
       "  [HRRR] model [sfc] product run at \u001b[32m2021-Jan-01 20:00 UTC F01\u001b[0m,\n",
       "  [HRRR] model [sfc] product run at \u001b[32m2021-Jan-01 00:00 UTC F06\u001b[0m,\n",
       "  [HRRR] model [sfc] product run at \u001b[32m2021-Jan-01 15:00 UTC F11\u001b[0m,\n",
       "  [HRRR] model [sfc] product run at \u001b[32m2021-Jan-01 22:00 UTC F11\u001b[0m,\n",
       "  [HRRR] model [sfc] product run at \u001b[32m2021-Jan-01 10:00 UTC F04\u001b[0m,\n",
       "  [HRRR] model [sfc] product run at \u001b[32m2021-Jan-01 17:00 UTC F04\u001b[0m,\n",
       "  [HRRR] model [sfc] product run at \u001b[32m2021-Jan-01 03:00 UTC F04\u001b[0m,\n",
       "  [HRRR] model [sfc] product run at \u001b[32m2021-Jan-01 11:00 UTC F09\u001b[0m,\n",
       "  [HRRR] model [sfc] product run at \u001b[32m2021-Jan-01 20:00 UTC F02\u001b[0m,\n",
       "  [HRRR] model [sfc] product run at \u001b[32m2021-Jan-01 01:00 UTC F05\u001b[0m,\n",
       "  [HRRR] model [sfc] product run at \u001b[32m2021-Jan-01 00:00 UTC F07\u001b[0m,\n",
       "  [HRRR] model [sfc] product run at \u001b[32m2021-Jan-01 07:00 UTC F08\u001b[0m,\n",
       "  [HRRR] model [sfc] product run at \u001b[32m2021-Jan-01 17:00 UTC F00\u001b[0m,\n",
       "  [HRRR] model [sfc] product run at \u001b[32m2021-Jan-01 10:00 UTC F05\u001b[0m,\n",
       "  [HRRR] model [sfc] product run at \u001b[32m2021-Jan-01 17:00 UTC F05\u001b[0m,\n",
       "  [HRRR] model [sfc] product run at \u001b[32m2021-Jan-01 06:00 UTC F06\u001b[0m,\n",
       "  [HRRR] model [sfc] product run at \u001b[32m2021-Jan-01 11:00 UTC F10\u001b[0m,\n",
       "  [HRRR] model [sfc] product run at \u001b[32m2021-Jan-01 08:00 UTC F00\u001b[0m,\n",
       "  [HRRR] model [sfc] product run at \u001b[32m2021-Jan-01 20:00 UTC F03\u001b[0m,\n",
       "  [HRRR] model [sfc] product run at \u001b[32m2021-Jan-01 06:00 UTC F10\u001b[0m,\n",
       "  [HRRR] model [sfc] product run at \u001b[32m2021-Jan-01 16:00 UTC F01\u001b[0m,\n",
       "  [HRRR] model [sfc] product run at \u001b[32m2021-Jan-01 23:00 UTC F01\u001b[0m,\n",
       "  [HRRR] model [sfc] product run at \u001b[32m2021-Jan-01 07:00 UTC F02\u001b[0m,\n",
       "  [HRRR] model [sfc] product run at \u001b[32m2021-Jan-01 10:00 UTC F06\u001b[0m,\n",
       "  [HRRR] model [sfc] product run at \u001b[32m2021-Jan-01 17:00 UTC F06\u001b[0m,\n",
       "  [HRRR] model [sfc] product run at \u001b[32m2021-Jan-01 11:00 UTC F11\u001b[0m,\n",
       "  [HRRR] model [sfc] product run at \u001b[32m2021-Jan-01 02:00 UTC F00\u001b[0m,\n",
       "  [HRRR] model [sfc] product run at \u001b[32m2021-Jan-01 04:00 UTC F02\u001b[0m,\n",
       "  [HRRR] model [sfc] product run at \u001b[32m2021-Jan-01 20:00 UTC F04\u001b[0m,\n",
       "  [HRRR] model [sfc] product run at \u001b[32m2021-Jan-01 07:00 UTC F03\u001b[0m,\n",
       "  [HRRR] model [sfc] product run at \u001b[32m2021-Jan-01 16:00 UTC F02\u001b[0m,\n",
       "  [HRRR] model [sfc] product run at \u001b[32m2021-Jan-01 23:00 UTC F02\u001b[0m,\n",
       "  [HRRR] model [sfc] product run at \u001b[32m2021-Jan-01 10:00 UTC F07\u001b[0m,\n",
       "  [HRRR] model [sfc] product run at \u001b[32m2021-Jan-01 17:00 UTC F07\u001b[0m,\n",
       "  [HRRR] model [sfc] product run at \u001b[32m2021-Jan-01 02:00 UTC F05\u001b[0m,\n",
       "  [HRRR] model [sfc] product run at \u001b[32m2021-Jan-01 13:00 UTC F00\u001b[0m,\n",
       "  [HRRR] model [sfc] product run at \u001b[32m2021-Jan-01 00:00 UTC F02\u001b[0m,\n",
       "  [HRRR] model [sfc] product run at \u001b[32m2021-Jan-01 20:00 UTC F05\u001b[0m,\n",
       "  [HRRR] model [sfc] product run at \u001b[32m2021-Jan-01 06:00 UTC F02\u001b[0m,\n",
       "  [HRRR] model [sfc] product run at \u001b[32m2021-Jan-01 00:00 UTC F05\u001b[0m,\n",
       "  [HRRR] model [sfc] product run at \u001b[32m2021-Jan-01 16:00 UTC F03\u001b[0m,\n",
       "  [HRRR] model [sfc] product run at \u001b[32m2021-Jan-01 23:00 UTC F03\u001b[0m,\n",
       "  [HRRR] model [sfc] product run at \u001b[32m2021-Jan-01 00:00 UTC F11\u001b[0m,\n",
       "  [HRRR] model [sfc] product run at \u001b[32m2021-Jan-01 01:00 UTC F11\u001b[0m,\n",
       "  [HRRR] model [sfc] product run at \u001b[32m2021-Jan-01 10:00 UTC F08\u001b[0m,\n",
       "  [HRRR] model [sfc] product run at \u001b[32m2021-Jan-01 08:00 UTC F01\u001b[0m,\n",
       "  [HRRR] model [sfc] product run at \u001b[32m2021-Jan-01 12:00 UTC F01\u001b[0m,\n",
       "  [HRRR] model [sfc] product run at \u001b[32m2021-Jan-01 17:00 UTC F08\u001b[0m,\n",
       "  [HRRR] model [sfc] product run at \u001b[32m2021-Jan-01 20:00 UTC F06\u001b[0m,\n",
       "  [HRRR] model [sfc] product run at \u001b[32m2021-Jan-01 16:00 UTC F04\u001b[0m,\n",
       "  [HRRR] model [sfc] product run at \u001b[32m2021-Jan-01 23:00 UTC F04\u001b[0m,\n",
       "  [HRRR] model [sfc] product run at \u001b[32m2021-Jan-01 06:00 UTC F07\u001b[0m,\n",
       "  [HRRR] model [sfc] product run at \u001b[32m2021-Jan-01 10:00 UTC F09\u001b[0m,\n",
       "  [HRRR] model [sfc] product run at \u001b[32m2021-Jan-01 17:00 UTC F09\u001b[0m,\n",
       "  [HRRR] model [sfc] product run at \u001b[32m2021-Jan-01 07:00 UTC F04\u001b[0m,\n",
       "  [HRRR] model [sfc] product run at \u001b[32m2021-Jan-01 12:00 UTC F02\u001b[0m,\n",
       "  [HRRR] model [sfc] product run at \u001b[32m2021-Jan-01 20:00 UTC F07\u001b[0m,\n",
       "  [HRRR] model [sfc] product run at \u001b[32m2021-Jan-01 08:00 UTC F04\u001b[0m,\n",
       "  [HRRR] model [sfc] product run at \u001b[32m2021-Jan-01 16:00 UTC F05\u001b[0m,\n",
       "  [HRRR] model [sfc] product run at \u001b[32m2021-Jan-01 23:00 UTC F05\u001b[0m,\n",
       "  [HRRR] model [sfc] product run at \u001b[32m2021-Jan-01 07:00 UTC F06\u001b[0m,\n",
       "  [HRRR] model [sfc] product run at \u001b[32m2021-Jan-01 10:00 UTC F10\u001b[0m,\n",
       "  [HRRR] model [sfc] product run at \u001b[32m2021-Jan-01 17:00 UTC F10\u001b[0m,\n",
       "  [HRRR] model [sfc] product run at \u001b[32m2021-Jan-01 12:00 UTC F03\u001b[0m,\n",
       "  [HRRR] model [sfc] product run at \u001b[32m2021-Jan-01 20:00 UTC F08\u001b[0m,\n",
       "  [HRRR] model [sfc] product run at \u001b[32m2021-Jan-01 16:00 UTC F06\u001b[0m,\n",
       "  [HRRR] model [sfc] product run at \u001b[32m2021-Jan-01 23:00 UTC F06\u001b[0m,\n",
       "  [HRRR] model [sfc] product run at \u001b[32m2021-Jan-01 10:00 UTC F11\u001b[0m,\n",
       "  [HRRR] model [sfc] product run at \u001b[32m2021-Jan-01 17:00 UTC F11\u001b[0m,\n",
       "  [HRRR] model [sfc] product run at \u001b[32m2021-Jan-01 12:00 UTC F04\u001b[0m,\n",
       "  [HRRR] model [sfc] product run at \u001b[32m2021-Jan-01 02:00 UTC F04\u001b[0m,\n",
       "  [HRRR] model [sfc] product run at \u001b[32m2021-Jan-01 07:00 UTC F01\u001b[0m,\n",
       "  [HRRR] model [sfc] product run at \u001b[32m2021-Jan-01 20:00 UTC F09\u001b[0m,\n",
       "  [HRRR] model [sfc] product run at \u001b[32m2021-Jan-01 16:00 UTC F07\u001b[0m,\n",
       "  [HRRR] model [sfc] product run at \u001b[32m2021-Jan-01 23:00 UTC F07\u001b[0m,\n",
       "  [HRRR] model [sfc] product run at \u001b[32m2021-Jan-01 01:00 UTC F04\u001b[0m,\n",
       "  [HRRR] model [sfc] product run at \u001b[32m2021-Jan-01 06:00 UTC F09\u001b[0m,\n",
       "  [HRRR] model [sfc] product run at \u001b[32m2021-Jan-01 12:00 UTC F00\u001b[0m,\n",
       "  [HRRR] model [sfc] product run at \u001b[32m2021-Jan-01 12:00 UTC F05\u001b[0m,\n",
       "  [HRRR] model [sfc] product run at \u001b[32m2021-Jan-01 19:00 UTC F00\u001b[0m,\n",
       "  [HRRR] model [sfc] product run at \u001b[32m2021-Jan-01 06:00 UTC F05\u001b[0m,\n",
       "  [HRRR] model [sfc] product run at \u001b[32m2021-Jan-01 20:00 UTC F10\u001b[0m,\n",
       "  [HRRR] model [sfc] product run at \u001b[32m2021-Jan-01 01:00 UTC F10\u001b[0m,\n",
       "  [HRRR] model [sfc] product run at \u001b[32m2021-Jan-01 07:00 UTC F11\u001b[0m,\n",
       "  [HRRR] model [sfc] product run at \u001b[32m2021-Jan-01 00:00 UTC F09\u001b[0m,\n",
       "  [HRRR] model [sfc] product run at \u001b[32m2021-Jan-01 16:00 UTC F08\u001b[0m,\n",
       "  [HRRR] model [sfc] product run at \u001b[32m2021-Jan-01 23:00 UTC F08\u001b[0m,\n",
       "  [HRRR] model [sfc] product run at \u001b[32m2021-Jan-01 04:00 UTC F03\u001b[0m,\n",
       "  [HRRR] model [sfc] product run at \u001b[32m2021-Jan-01 11:00 UTC F01\u001b[0m,\n",
       "  [HRRR] model [sfc] product run at \u001b[32m2021-Jan-01 18:00 UTC F01\u001b[0m,\n",
       "  [HRRR] model [sfc] product run at \u001b[32m2021-Jan-01 06:00 UTC F03\u001b[0m,\n",
       "  [HRRR] model [sfc] product run at \u001b[32m2021-Jan-01 12:00 UTC F06\u001b[0m,\n",
       "  [HRRR] model [sfc] product run at \u001b[32m2021-Jan-01 01:00 UTC F01\u001b[0m,\n",
       "  [HRRR] model [sfc] product run at \u001b[32m2021-Jan-01 09:00 UTC F00\u001b[0m,\n",
       "  [HRRR] model [sfc] product run at \u001b[32m2021-Jan-01 20:00 UTC F11\u001b[0m,\n",
       "  [HRRR] model [sfc] product run at \u001b[32m2021-Jan-01 01:00 UTC F03\u001b[0m,\n",
       "  [HRRR] model [sfc] product run at \u001b[32m2021-Jan-01 08:00 UTC F03\u001b[0m,\n",
       "  [HRRR] model [sfc] product run at \u001b[32m2021-Jan-01 16:00 UTC F09\u001b[0m,\n",
       "  [HRRR] model [sfc] product run at \u001b[32m2021-Jan-01 23:00 UTC F09\u001b[0m,\n",
       "  [HRRR] model [sfc] product run at \u001b[32m2021-Jan-01 11:00 UTC F02\u001b[0m,\n",
       "  [HRRR] model [sfc] product run at \u001b[32m2021-Jan-01 18:00 UTC F02\u001b[0m,\n",
       "  [HRRR] model [sfc] product run at \u001b[32m2021-Jan-01 12:00 UTC F07\u001b[0m,\n",
       "  [HRRR] model [sfc] product run at \u001b[32m2021-Jan-01 01:00 UTC F09\u001b[0m,\n",
       "  [HRRR] model [sfc] product run at \u001b[32m2021-Jan-01 22:00 UTC F00\u001b[0m,\n",
       "  [HRRR] model [sfc] product run at \u001b[32m2021-Jan-01 02:00 UTC F09\u001b[0m,\n",
       "  [HRRR] model [sfc] product run at \u001b[32m2021-Jan-01 16:00 UTC F10\u001b[0m,\n",
       "  [HRRR] model [sfc] product run at \u001b[32m2021-Jan-01 23:00 UTC F10\u001b[0m,\n",
       "  [HRRR] model [sfc] product run at \u001b[32m2021-Jan-01 07:00 UTC F09\u001b[0m,\n",
       "  [HRRR] model [sfc] product run at \u001b[32m2021-Jan-01 07:00 UTC F07\u001b[0m,\n",
       "  [HRRR] model [sfc] product run at \u001b[32m2021-Jan-01 21:00 UTC F01\u001b[0m])"
      ]
     },
     "execution_count": 55,
     "metadata": {},
     "output_type": "execute_result"
    }
   ],
   "source": [
    "len(data), data"
   ]
  },
  {
   "cell_type": "code",
   "execution_count": null,
   "metadata": {},
   "outputs": [],
   "source": []
  }
 ],
 "metadata": {
  "interpreter": {
   "hash": "0eba95b783a86a65db7d6a4369f83058cbe3c96541785e1688217987e5cba802"
  },
  "kernelspec": {
   "display_name": "Python 3.9.10 64-bit ('herbie': conda)",
   "language": "python",
   "name": "python3"
  },
  "language_info": {
   "codemirror_mode": {
    "name": "ipython",
    "version": 3
   },
   "file_extension": ".py",
   "mimetype": "text/x-python",
   "name": "python",
   "nbconvert_exporter": "python",
   "pygments_lexer": "ipython3",
   "version": "3.9.5"
  },
  "orig_nbformat": 4
 },
 "nbformat": 4,
 "nbformat_minor": 2
}

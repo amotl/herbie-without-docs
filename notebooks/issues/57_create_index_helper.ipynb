{
 "cells": [
  {
   "cell_type": "code",
   "execution_count": 1,
   "metadata": {},
   "outputs": [
    {
     "data": {
      "text/plain": [
       "'C:\\\\Users\\\\blayl_depgywe\\\\miniconda3\\\\envs\\\\herbie\\\\lib\\\\pathlib.py'"
      ]
     },
     "execution_count": 1,
     "metadata": {},
     "output_type": "execute_result"
    }
   ],
   "source": [
    "from herbie.archive import Herbie\n",
    "from pathlib import Path\n",
    "\n",
    "import inspect\n",
    "\n",
    "inspect.getfile(Path)"
   ]
  },
  {
   "cell_type": "code",
   "execution_count": 2,
   "metadata": {},
   "outputs": [
    {
     "name": "stdout",
     "output_type": "stream",
     "text": [
      "🏋🏻‍♂️ Found \u001b[32m2021-Sep-02 00:00 UTC F00\u001b[m [HRRR] [product=sfc] GRIB2 file from \u001b[31mlocal\u001b[m and index file from \u001b[31maws\u001b[m.                                                                                                                                                       \n",
      "🌉 Already have local copy --> C:\\Users\\blayl_depgywe\\data\\hrrr\\20210902\\hrrr.t00z.wrfsfcf00.grib2\n"
     ]
    }
   ],
   "source": [
    "H = Herbie(\"2021-09-02\", model=\"hrrr\", product=\"sfc\")\n",
    "H.download()"
   ]
  },
  {
   "cell_type": "code",
   "execution_count": 11,
   "metadata": {},
   "outputs": [],
   "source": [
    "from herbie import config"
   ]
  },
  {
   "cell_type": "code",
   "execution_count": 14,
   "metadata": {},
   "outputs": [
    {
     "data": {
      "text/plain": [
       "WindowsPath('C:/Users/blayl_depgywe/data')"
      ]
     },
     "execution_count": 14,
     "metadata": {},
     "output_type": "execute_result"
    }
   ],
   "source": [
    "config[\"default\"][\"save_dir\"]"
   ]
  },
  {
   "cell_type": "code",
   "execution_count": 9,
   "metadata": {},
   "outputs": [
    {
     "data": {
      "text/plain": [
       "[WindowsPath('C:/Users/blayl_depgywe/data/hrrr/20210901/hrrr.t00z.wrfsfcf00.grib2'),\n",
       " WindowsPath('C:/Users/blayl_depgywe/data/hrrr/20210902/hrrr.t00z.wrfsfcf00.grib2')]"
      ]
     },
     "execution_count": 9,
     "metadata": {},
     "output_type": "execute_result"
    }
   ],
   "source": [
    "DIR = \"C:/Users/blayl_depgywe/data\"\n",
    "files = list(Path(DIR).rglob(\"*.grib2\"))\n",
    "files"
   ]
  },
  {
   "cell_type": "code",
   "execution_count": 15,
   "metadata": {},
   "outputs": [
    {
     "data": {
      "text/plain": [
       "[]"
      ]
     },
     "execution_count": 15,
     "metadata": {},
     "output_type": "execute_result"
    }
   ],
   "source": [
    "list(Path(DIR).rglob(\"*.grib22\"))"
   ]
  },
  {
   "cell_type": "code",
   "execution_count": 10,
   "metadata": {},
   "outputs": [
    {
     "name": "stdout",
     "output_type": "stream",
     "text": [
      "wgrib2 -s C:\\Users\\blayl_depgywe\\data\\hrrr\\20210901\\hrrr.t00z.wrfsfcf00.grib2 > C:\\Users\\blayl_depgywe\\data\\hrrr\\20210901\\hrrr.t00z.wrfsfcf00.grib2.idx\n",
      "wgrib2 -s C:\\Users\\blayl_depgywe\\data\\hrrr\\20210902\\hrrr.t00z.wrfsfcf00.grib2 > C:\\Users\\blayl_depgywe\\data\\hrrr\\20210902\\hrrr.t00z.wrfsfcf00.grib2.idx\n"
     ]
    }
   ],
   "source": [
    "if len(files) > 0:\n",
    "    for f in files:\n",
    "        # Create a simple inventory of the grib2 file\n",
    "        cmd = f\"wgrib2 -s {f} > {f.with_suffix('.grib2.idx')}\"\n",
    "        print(cmd)\n",
    "        # os.system(cmd)\n",
    "else:\n",
    "    raise ValueError(f\"No grib2 files were found in {DIR}\")"
   ]
  },
  {
   "cell_type": "code",
   "execution_count": 14,
   "metadata": {},
   "outputs": [
    {
     "data": {
      "text/plain": [
       "'C:\\\\Users\\\\blayl_depgywe\\\\miniconda3\\\\envs\\\\herbie\\\\lib\\\\pathlib.py'"
      ]
     },
     "execution_count": 14,
     "metadata": {},
     "output_type": "execute_result"
    }
   ],
   "source": [
    "inspect.getfile(Path)"
   ]
  },
  {
   "cell_type": "code",
   "execution_count": 16,
   "metadata": {},
   "outputs": [],
   "source": [
    "from shutil import which\n",
    "\n",
    "# return which(name) is not None"
   ]
  },
  {
   "cell_type": "code",
   "execution_count": 18,
   "metadata": {},
   "outputs": [
    {
     "data": {
      "text/plain": [
       "'C:\\\\Users\\\\blayl_depgywe\\\\miniconda3\\\\envs\\\\herbie\\\\Library\\\\usr\\\\bin\\\\dir.EXE'"
      ]
     },
     "execution_count": 18,
     "metadata": {},
     "output_type": "execute_result"
    }
   ],
   "source": [
    "which(\"dir\")"
   ]
  },
  {
   "cell_type": "code",
   "execution_count": 19,
   "metadata": {},
   "outputs": [],
   "source": [
    "from herbie.tools import create_index_files"
   ]
  },
  {
   "cell_type": "code",
   "execution_count": 20,
   "metadata": {},
   "outputs": [
    {
     "ename": "RuntimeError",
     "evalue": "Creating inventory files requires wgrib2, but Herbie did not find wgrib2 in the path.",
     "output_type": "error",
     "traceback": [
      "\u001b[1;31m---------------------------------------------------------------------------\u001b[0m",
      "\u001b[1;31mRuntimeError\u001b[0m                              Traceback (most recent call last)",
      "Input \u001b[1;32mIn [20]\u001b[0m, in \u001b[0;36m<cell line: 1>\u001b[1;34m()\u001b[0m\n\u001b[1;32m----> 1\u001b[0m \u001b[43mcreate_index_files\u001b[49m\u001b[43m(\u001b[49m\u001b[38;5;124;43m'\u001b[39;49m\u001b[38;5;124;43m.\u001b[39;49m\u001b[38;5;124;43m'\u001b[39;49m\u001b[43m)\u001b[49m\n",
      "File \u001b[1;32m~\\BB_python\\Herbie\\herbie\\tools.py:149\u001b[0m, in \u001b[0;36mcreate_index_files\u001b[1;34m(DIR)\u001b[0m\n\u001b[0;32m    146\u001b[0m \u001b[38;5;28;01mfrom\u001b[39;00m \u001b[38;5;21;01mshutil\u001b[39;00m \u001b[38;5;28;01mimport\u001b[39;00m which\n\u001b[0;32m    148\u001b[0m \u001b[38;5;28;01mif\u001b[39;00m which(\u001b[38;5;124m'\u001b[39m\u001b[38;5;124mwgrib2\u001b[39m\u001b[38;5;124m'\u001b[39m) \u001b[38;5;129;01mis\u001b[39;00m \u001b[38;5;28;01mNone\u001b[39;00m:\n\u001b[1;32m--> 149\u001b[0m     \u001b[38;5;28;01mraise\u001b[39;00m \u001b[38;5;167;01mRuntimeError\u001b[39;00m(\u001b[38;5;124m\"\u001b[39m\u001b[38;5;124mCreating inventory files requires wgrib2, but Herbie did not find wgrib2 in the path.\u001b[39m\u001b[38;5;124m\"\u001b[39m)\n\u001b[0;32m    151\u001b[0m \u001b[38;5;66;03m# List all GRIB2 files in the directory\u001b[39;00m\n\u001b[0;32m    152\u001b[0m files \u001b[38;5;241m=\u001b[39m \u001b[38;5;28mlist\u001b[39m(Path(DIR)\u001b[38;5;241m.\u001b[39mrglob(\u001b[38;5;124m'\u001b[39m\u001b[38;5;124m*.grib2\u001b[39m\u001b[38;5;124m'\u001b[39m))\n",
      "\u001b[1;31mRuntimeError\u001b[0m: Creating inventory files requires wgrib2, but Herbie did not find wgrib2 in the path."
     ]
    }
   ],
   "source": [
    "create_index_files(\".\")"
   ]
  },
  {
   "cell_type": "code",
   "execution_count": null,
   "metadata": {},
   "outputs": [],
   "source": []
  }
 ],
 "metadata": {
  "interpreter": {
   "hash": "0eba95b783a86a65db7d6a4369f83058cbe3c96541785e1688217987e5cba802"
  },
  "kernelspec": {
   "display_name": "Python 3.9.10 64-bit ('herbie': conda)",
   "language": "python",
   "name": "python3"
  },
  "language_info": {
   "codemirror_mode": {
    "name": "ipython",
    "version": 3
   },
   "file_extension": ".py",
   "mimetype": "text/x-python",
   "name": "python",
   "nbconvert_exporter": "python",
   "pygments_lexer": "ipython3",
   "version": "3.9.10"
  },
  "orig_nbformat": 4
 },
 "nbformat": 4,
 "nbformat_minor": 2
}

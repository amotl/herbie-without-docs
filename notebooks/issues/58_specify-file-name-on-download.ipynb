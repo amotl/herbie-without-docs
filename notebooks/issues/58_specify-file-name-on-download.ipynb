{
 "cells": [
  {
   "cell_type": "markdown",
   "metadata": {},
   "source": [
    "# 58: Specify filename on download"
   ]
  },
  {
   "cell_type": "code",
   "execution_count": 2,
   "metadata": {},
   "outputs": [],
   "source": [
    "from herbie.archive import Herbie"
   ]
  },
  {
   "cell_type": "code",
   "execution_count": 22,
   "metadata": {},
   "outputs": [
    {
     "name": "stdout",
     "output_type": "stream",
     "text": [
      "🏋🏻‍♂️ Found \u001b[32m2021-Jan-01 00:00 UTC F06\u001b[m [HRRR] [product=sfc] GRIB2 file from \u001b[31maws\u001b[m and index file from \u001b[31maws\u001b[m.                                                                                                                                                       \n"
     ]
    }
   ],
   "source": [
    "H = Herbie('2021-01-01', model='hrrr', product='sfc', fxx=6)"
   ]
  },
  {
   "cell_type": "code",
   "execution_count": 6,
   "metadata": {},
   "outputs": [
    {
     "data": {
      "text/plain": [
       "'hrrr.t00z.wrfsfcf00.grib2'"
      ]
     },
     "execution_count": 6,
     "metadata": {},
     "output_type": "execute_result"
    }
   ],
   "source": [
    "H.get_localFileName"
   ]
  },
  {
   "cell_type": "code",
   "execution_count": 10,
   "metadata": {},
   "outputs": [
    {
     "ename": "SyntaxError",
     "evalue": "cannot assign to function call (3426504347.py, line 1)",
     "output_type": "error",
     "traceback": [
      "\u001b[1;36m  Input \u001b[1;32mIn [10]\u001b[1;36m\u001b[0m\n\u001b[1;33m    H.get_localFilePath() = 'hi'\u001b[0m\n\u001b[1;37m    ^\u001b[0m\n\u001b[1;31mSyntaxError\u001b[0m\u001b[1;31m:\u001b[0m cannot assign to function call\n"
     ]
    }
   ],
   "source": [
    "H.get_localFilePath()"
   ]
  },
  {
   "cell_type": "code",
   "execution_count": 13,
   "metadata": {},
   "outputs": [],
   "source": [
    "H.LOCALFILE = 'cutsom_name'"
   ]
  },
  {
   "cell_type": "code",
   "execution_count": 14,
   "metadata": {},
   "outputs": [
    {
     "data": {
      "text/plain": [
       "WindowsPath('C:/Users/blayl_depgywe/data/hrrr/20210101/cutsom_name')"
      ]
     },
     "execution_count": 14,
     "metadata": {},
     "output_type": "execute_result"
    }
   ],
   "source": [
    "H.get_localFilePath()"
   ]
  },
  {
   "cell_type": "code",
   "execution_count": 18,
   "metadata": {},
   "outputs": [
    {
     "name": "stdout",
     "output_type": "stream",
     "text": [
      "✅ Success! Downloaded HRRR from \u001b[38;5;202maws                 \u001b[m\n",
      "\tsrc: https://noaa-hrrr-bdp-pds.s3.amazonaws.com/hrrr.20210101/conus/hrrr.t00z.wrfsfcf00.grib2\n",
      "\tdst: C:\\Users\\blayl_depgywe\\data\\hrrr\\20210101\\cutsom_name\n"
     ]
    }
   ],
   "source": [
    "H.download()"
   ]
  },
  {
   "cell_type": "code",
   "execution_count": 19,
   "metadata": {},
   "outputs": [
    {
     "data": {
      "text/plain": [
       "0"
      ]
     },
     "execution_count": 19,
     "metadata": {},
     "output_type": "execute_result"
    }
   ],
   "source": [
    "H.fxx"
   ]
  },
  {
   "cell_type": "code",
   "execution_count": 39,
   "metadata": {},
   "outputs": [
    {
     "name": "stdout",
     "output_type": "stream",
     "text": [
      "✅ Success! Downloaded HRRR from \u001b[38;5;202maws                 \u001b[m\n",
      "\tsrc: https://noaa-hrrr-bdp-pds.s3.amazonaws.com/hrrr.20210101/conus/hrrr.t00z.wrfsfcf06.grib2\n",
      "\tdst: C:\\Users\\blayl_depgywe\\data\\hrrr\\20210101\\model_HRRR_2021010100_F06_valid_2021010106\n"
     ]
    }
   ],
   "source": [
    "H.LOCALFILE = f\"model_{H.model.upper()}_{H.date:%Y%m%d%H}_F{H.fxx:02d}_valid_{H.valid_date:%Y%m%d%H}.grib2\"\n",
    "H.download()"
   ]
  },
  {
   "cell_type": "code",
   "execution_count": 42,
   "metadata": {},
   "outputs": [
    {
     "name": "stdout",
     "output_type": "stream",
     "text": [
      "✅ Success! Downloaded HRRR from \u001b[38;5;202maws                 \u001b[m\n",
      "\tsrc: https://noaa-hrrr-bdp-pds.s3.amazonaws.com/hrrr.20210101/conus/hrrr.t00z.wrfsfcf06.grib2\n",
      "\tdst: C:\\Users\\blayl_depgywe\\data\\hrrr\\20210101\\model_HRRR_surfaceFields_2021010100_F06.grib2\n"
     ]
    }
   ],
   "source": [
    "H.LOCALFILE = f\"model_{H.model.upper()}_surfaceFields_{H.date:%Y%m%d%H}_F{H.fxx:02d}.grib2\"\n",
    "H.download()"
   ]
  },
  {
   "cell_type": "code",
   "execution_count": 43,
   "metadata": {},
   "outputs": [
    {
     "data": {
      "text/plain": [
       "WindowsPath('C:/Users/blayl_depgywe/data')"
      ]
     },
     "execution_count": 43,
     "metadata": {},
     "output_type": "execute_result"
    }
   ],
   "source": [
    "H.save_dir"
   ]
  },
  {
   "cell_type": "code",
   "execution_count": null,
   "metadata": {},
   "outputs": [],
   "source": []
  }
 ],
 "metadata": {
  "interpreter": {
   "hash": "0eba95b783a86a65db7d6a4369f83058cbe3c96541785e1688217987e5cba802"
  },
  "kernelspec": {
   "display_name": "Python 3.9.10 64-bit ('herbie': conda)",
   "language": "python",
   "name": "python3"
  },
  "language_info": {
   "codemirror_mode": {
    "name": "ipython",
    "version": 3
   },
   "file_extension": ".py",
   "mimetype": "text/x-python",
   "name": "python",
   "nbconvert_exporter": "python",
   "pygments_lexer": "ipython3",
   "version": "3.9.10"
  },
  "orig_nbformat": 4
 },
 "nbformat": 4,
 "nbformat_minor": 2
}

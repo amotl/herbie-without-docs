{
 "cells": [
  {
   "cell_type": "markdown",
   "metadata": {},
   "source": [
    "# 94: Put substring has at end of filename\n"
   ]
  },
  {
   "cell_type": "code",
   "execution_count": 3,
   "metadata": {},
   "outputs": [],
   "source": [
    "import hashlib\n"
   ]
  },
  {
   "cell_type": "code",
   "execution_count": 8,
   "metadata": {},
   "outputs": [
    {
     "data": {
      "text/plain": [
       "'c917'"
      ]
     },
     "execution_count": 8,
     "metadata": {},
     "output_type": "execute_result"
    }
   ],
   "source": [
    "h = hashlib.blake2b('thisisasasasdlfkj;ewijasd;kuaperlongasdlfkjeponkc;laisjdfklml;eknf;isdjalksdlkamvl;kajg;oirej;lkasmd;lfjk'.encode(), \n",
    "digest_size=2).hexdigest()\n",
    "h"
   ]
  },
  {
   "cell_type": "code",
   "execution_count": 31,
   "metadata": {},
   "outputs": [
    {
     "data": {
      "text/plain": [
       "'3cb04dd1d9'"
      ]
     },
     "execution_count": 31,
     "metadata": {},
     "output_type": "execute_result"
    }
   ],
   "source": [
    "h = hashlib.blake2b(digest_size=5)\n",
    "h.update(\"1-2-3\".encode())\n",
    "h.hexdigest()"
   ]
  },
  {
   "cell_type": "code",
   "execution_count": 1,
   "metadata": {},
   "outputs": [],
   "source": [
    "from herbie import Herbie"
   ]
  },
  {
   "cell_type": "code",
   "execution_count": 3,
   "metadata": {},
   "outputs": [
    {
     "name": "stdout",
     "output_type": "stream",
     "text": [
      "✅ Found ┊ model=ecmwf ┊ \u001b[3mproduct=oper\u001b[0m ┊ \u001b[38;2;41;130;13m2022-Aug-01 00:00 UTC\u001b[92m F00\u001b[0m ┊ \u001b[38;2;255;153;0m\u001b[3mGRIB2 @ azure\u001b[0m ┊ \u001b[38;2;255;153;0m\u001b[3mIDX @ azure\u001b[0m\n"
     ]
    },
    {
     "data": {
      "text/plain": [
       "WindowsPath('C:/Users/blayl_depgywe/data/ecmwf/20220801/subset_18efed92__20220801000000-0h-oper-fc.grib2')"
      ]
     },
     "execution_count": 3,
     "metadata": {},
     "output_type": "execute_result"
    }
   ],
   "source": [
    "ds = Herbie(\"2022-08-01\", model='ecmwf').xarray(\":msl:\")\n",
    "ds.attrs['local_grib']"
   ]
  },
  {
   "cell_type": "code",
   "execution_count": 8,
   "metadata": {},
   "outputs": [
    {
     "name": "stdout",
     "output_type": "stream",
     "text": [
      "✅ Found ┊ model=ecmwf ┊ \u001b[3mproduct=oper\u001b[0m ┊ \u001b[38;2;41;130;13m2022-Aug-01 00:00 UTC\u001b[92m F00\u001b[0m ┊ \u001b[38;2;255;153;0m\u001b[3mGRIB2 @ azure\u001b[0m ┊ \u001b[38;2;255;153;0m\u001b[3mIDX @ azure\u001b[0m\n"
     ]
    },
    {
     "data": {
      "text/html": [
       "<div>\n",
       "<style scoped>\n",
       "    .dataframe tbody tr th:only-of-type {\n",
       "        vertical-align: middle;\n",
       "    }\n",
       "\n",
       "    .dataframe tbody tr th {\n",
       "        vertical-align: top;\n",
       "    }\n",
       "\n",
       "    .dataframe thead th {\n",
       "        text-align: right;\n",
       "    }\n",
       "</style>\n",
       "<table border=\"1\" class=\"dataframe\">\n",
       "  <thead>\n",
       "    <tr style=\"text-align: right;\">\n",
       "      <th></th>\n",
       "      <th>grib_message</th>\n",
       "      <th>start_byte</th>\n",
       "      <th>end_byte</th>\n",
       "      <th>range</th>\n",
       "      <th>reference_time</th>\n",
       "      <th>valid_time</th>\n",
       "      <th>step</th>\n",
       "      <th>param</th>\n",
       "      <th>levelist</th>\n",
       "      <th>levtype</th>\n",
       "      <th>number</th>\n",
       "      <th>domain</th>\n",
       "      <th>expver</th>\n",
       "      <th>class</th>\n",
       "      <th>type</th>\n",
       "      <th>stream</th>\n",
       "      <th>search_this</th>\n",
       "    </tr>\n",
       "  </thead>\n",
       "  <tbody>\n",
       "    <tr>\n",
       "      <th>31</th>\n",
       "      <td>32</td>\n",
       "      <td>16648000</td>\n",
       "      <td>17257046</td>\n",
       "      <td>16648000-17257046</td>\n",
       "      <td>2022-08-01</td>\n",
       "      <td>2022-08-01</td>\n",
       "      <td>0 days</td>\n",
       "      <td>msl</td>\n",
       "      <td>NaN</td>\n",
       "      <td>sfc</td>\n",
       "      <td>NaN</td>\n",
       "      <td>g</td>\n",
       "      <td>0001</td>\n",
       "      <td>od</td>\n",
       "      <td>fc</td>\n",
       "      <td>oper</td>\n",
       "      <td>:msl:sfc:g:0001:od:fc:oper</td>\n",
       "    </tr>\n",
       "  </tbody>\n",
       "</table>\n",
       "</div>"
      ],
      "text/plain": [
       "    grib_message  start_byte  end_byte              range reference_time  \\\n",
       "31            32    16648000  17257046  16648000-17257046     2022-08-01   \n",
       "\n",
       "   valid_time   step param levelist levtype  number domain expver class type  \\\n",
       "31 2022-08-01 0 days   msl      NaN     sfc     NaN      g   0001    od   fc   \n",
       "\n",
       "   stream                 search_this  \n",
       "31   oper  :msl:sfc:g:0001:od:fc:oper  "
      ]
     },
     "execution_count": 8,
     "metadata": {},
     "output_type": "execute_result"
    }
   ],
   "source": [
    "Herbie(\"2022-08-01\", model='ecmwf').read_idx(\":msl\")"
   ]
  },
  {
   "cell_type": "code",
   "execution_count": 9,
   "metadata": {},
   "outputs": [
    {
     "name": "stdout",
     "output_type": "stream",
     "text": [
      "✅ Found ┊ model=ecmwf ┊ \u001b[3mproduct=oper\u001b[0m ┊ \u001b[38;2;41;130;13m2022-Aug-01 00:00 UTC\u001b[92m F03\u001b[0m ┊ \u001b[38;2;255;153;0m\u001b[3mGRIB2 @ azure\u001b[0m ┊ \u001b[38;2;255;153;0m\u001b[3mIDX @ azure\u001b[0m\n"
     ]
    },
    {
     "data": {
      "text/html": [
       "<div>\n",
       "<style scoped>\n",
       "    .dataframe tbody tr th:only-of-type {\n",
       "        vertical-align: middle;\n",
       "    }\n",
       "\n",
       "    .dataframe tbody tr th {\n",
       "        vertical-align: top;\n",
       "    }\n",
       "\n",
       "    .dataframe thead th {\n",
       "        text-align: right;\n",
       "    }\n",
       "</style>\n",
       "<table border=\"1\" class=\"dataframe\">\n",
       "  <thead>\n",
       "    <tr style=\"text-align: right;\">\n",
       "      <th></th>\n",
       "      <th>grib_message</th>\n",
       "      <th>start_byte</th>\n",
       "      <th>end_byte</th>\n",
       "      <th>range</th>\n",
       "      <th>reference_time</th>\n",
       "      <th>valid_time</th>\n",
       "      <th>step</th>\n",
       "      <th>param</th>\n",
       "      <th>levelist</th>\n",
       "      <th>levtype</th>\n",
       "      <th>number</th>\n",
       "      <th>domain</th>\n",
       "      <th>expver</th>\n",
       "      <th>class</th>\n",
       "      <th>type</th>\n",
       "      <th>stream</th>\n",
       "      <th>search_this</th>\n",
       "    </tr>\n",
       "  </thead>\n",
       "  <tbody>\n",
       "    <tr>\n",
       "      <th>23</th>\n",
       "      <td>24</td>\n",
       "      <td>13196282</td>\n",
       "      <td>13805328</td>\n",
       "      <td>13196282-13805328</td>\n",
       "      <td>2022-08-01</td>\n",
       "      <td>2022-08-01 03:00:00</td>\n",
       "      <td>0 days 03:00:00</td>\n",
       "      <td>msl</td>\n",
       "      <td>NaN</td>\n",
       "      <td>sfc</td>\n",
       "      <td>NaN</td>\n",
       "      <td>g</td>\n",
       "      <td>0001</td>\n",
       "      <td>od</td>\n",
       "      <td>fc</td>\n",
       "      <td>oper</td>\n",
       "      <td>:msl:sfc:g:0001:od:fc:oper</td>\n",
       "    </tr>\n",
       "  </tbody>\n",
       "</table>\n",
       "</div>"
      ],
      "text/plain": [
       "    grib_message  start_byte  end_byte              range reference_time  \\\n",
       "23            24    13196282  13805328  13196282-13805328     2022-08-01   \n",
       "\n",
       "            valid_time            step param levelist levtype  number domain  \\\n",
       "23 2022-08-01 03:00:00 0 days 03:00:00   msl      NaN     sfc     NaN      g   \n",
       "\n",
       "   expver class type stream                 search_this  \n",
       "23   0001    od   fc   oper  :msl:sfc:g:0001:od:fc:oper  "
      ]
     },
     "execution_count": 9,
     "metadata": {},
     "output_type": "execute_result"
    }
   ],
   "source": [
    "Herbie(\"2022-08-01\", model='ecmwf', fxx=3).read_idx(\":msl\")"
   ]
  },
  {
   "cell_type": "code",
   "execution_count": 10,
   "metadata": {},
   "outputs": [
    {
     "name": "stdout",
     "output_type": "stream",
     "text": [
      "✅ Found ┊ model=ecmwf ┊ \u001b[3mproduct=oper\u001b[0m ┊ \u001b[38;2;41;130;13m2022-Aug-01 00:00 UTC\u001b[92m F06\u001b[0m ┊ \u001b[38;2;255;153;0m\u001b[3mGRIB2 @ azure\u001b[0m ┊ \u001b[38;2;255;153;0m\u001b[3mIDX @ azure\u001b[0m\n"
     ]
    },
    {
     "data": {
      "text/html": [
       "<div>\n",
       "<style scoped>\n",
       "    .dataframe tbody tr th:only-of-type {\n",
       "        vertical-align: middle;\n",
       "    }\n",
       "\n",
       "    .dataframe tbody tr th {\n",
       "        vertical-align: top;\n",
       "    }\n",
       "\n",
       "    .dataframe thead th {\n",
       "        text-align: right;\n",
       "    }\n",
       "</style>\n",
       "<table border=\"1\" class=\"dataframe\">\n",
       "  <thead>\n",
       "    <tr style=\"text-align: right;\">\n",
       "      <th></th>\n",
       "      <th>grib_message</th>\n",
       "      <th>start_byte</th>\n",
       "      <th>end_byte</th>\n",
       "      <th>range</th>\n",
       "      <th>reference_time</th>\n",
       "      <th>valid_time</th>\n",
       "      <th>step</th>\n",
       "      <th>param</th>\n",
       "      <th>levelist</th>\n",
       "      <th>levtype</th>\n",
       "      <th>number</th>\n",
       "      <th>domain</th>\n",
       "      <th>expver</th>\n",
       "      <th>class</th>\n",
       "      <th>type</th>\n",
       "      <th>stream</th>\n",
       "      <th>search_this</th>\n",
       "    </tr>\n",
       "  </thead>\n",
       "  <tbody>\n",
       "    <tr>\n",
       "      <th>37</th>\n",
       "      <td>38</td>\n",
       "      <td>21114076</td>\n",
       "      <td>21723122</td>\n",
       "      <td>21114076-21723122</td>\n",
       "      <td>2022-08-01</td>\n",
       "      <td>2022-08-01 06:00:00</td>\n",
       "      <td>0 days 06:00:00</td>\n",
       "      <td>msl</td>\n",
       "      <td>NaN</td>\n",
       "      <td>sfc</td>\n",
       "      <td>NaN</td>\n",
       "      <td>g</td>\n",
       "      <td>0001</td>\n",
       "      <td>od</td>\n",
       "      <td>fc</td>\n",
       "      <td>oper</td>\n",
       "      <td>:msl:sfc:g:0001:od:fc:oper</td>\n",
       "    </tr>\n",
       "  </tbody>\n",
       "</table>\n",
       "</div>"
      ],
      "text/plain": [
       "    grib_message  start_byte  end_byte              range reference_time  \\\n",
       "37            38    21114076  21723122  21114076-21723122     2022-08-01   \n",
       "\n",
       "            valid_time            step param levelist levtype  number domain  \\\n",
       "37 2022-08-01 06:00:00 0 days 06:00:00   msl      NaN     sfc     NaN      g   \n",
       "\n",
       "   expver class type stream                 search_this  \n",
       "37   0001    od   fc   oper  :msl:sfc:g:0001:od:fc:oper  "
      ]
     },
     "execution_count": 10,
     "metadata": {},
     "output_type": "execute_result"
    }
   ],
   "source": [
    "Herbie(\"2022-08-01\", model='ecmwf', fxx=6).read_idx(\":msl\")"
   ]
  },
  {
   "cell_type": "code",
   "execution_count": 5,
   "metadata": {},
   "outputs": [
    {
     "name": "stdout",
     "output_type": "stream",
     "text": [
      "✅ Found ┊ model=ecmwf ┊ \u001b[3mproduct=oper\u001b[0m ┊ \u001b[38;2;41;130;13m2022-Aug-01 00:00 UTC\u001b[92m F03\u001b[0m ┊ \u001b[38;2;255;153;0m\u001b[3mGRIB2 @ azure\u001b[0m ┊ \u001b[38;2;255;153;0m\u001b[3mIDX @ azure\u001b[0m\n"
     ]
    },
    {
     "data": {
      "text/plain": [
       "WindowsPath('C:/Users/blayl_depgywe/data/ecmwf/20220801/subset_181533a6__20220801000000-3h-oper-fc.grib2')"
      ]
     },
     "execution_count": 5,
     "metadata": {},
     "output_type": "execute_result"
    }
   ],
   "source": [
    "ds = Herbie(\"2022-08-01\", model='ecmwf', fxx=3).xarray(\":msl:\")\n",
    "ds.attrs['local_grib']"
   ]
  },
  {
   "cell_type": "code",
   "execution_count": 6,
   "metadata": {},
   "outputs": [
    {
     "name": "stdout",
     "output_type": "stream",
     "text": [
      "✅ Found ┊ model=ecmwf ┊ \u001b[3mproduct=oper\u001b[0m ┊ \u001b[38;2;41;130;13m2022-Aug-01 00:00 UTC\u001b[92m F06\u001b[0m ┊ \u001b[38;2;255;153;0m\u001b[3mGRIB2 @ azure\u001b[0m ┊ \u001b[38;2;255;153;0m\u001b[3mIDX @ azure\u001b[0m\n"
     ]
    },
    {
     "name": "stderr",
     "output_type": "stream",
     "text": [
      "C:\\Users\\blayl_depgywe\\BB_python\\Herbie\\herbie\\archive.py:1009: UserWarning: sorry, on windows I couldn't remove the file.\n",
      "  warnings.warn(\"sorry, on windows I couldn't remove the file.\")\n"
     ]
    },
    {
     "data": {
      "text/plain": [
       "WindowsPath('C:/Users/blayl_depgywe/data/ecmwf/20220801/subset_18b2a897__20220801000000-6h-oper-fc.grib2')"
      ]
     },
     "execution_count": 6,
     "metadata": {},
     "output_type": "execute_result"
    }
   ],
   "source": [
    "ds = Herbie(\"2022-08-01\", model='ecmwf', fxx=6).xarray(\":msl:\")\n",
    "ds.attrs['local_grib']"
   ]
  },
  {
   "cell_type": "code",
   "execution_count": 8,
   "metadata": {},
   "outputs": [
    {
     "ename": "NameError",
     "evalue": "name 'H' is not defined",
     "output_type": "error",
     "traceback": [
      "\u001b[1;31m---------------------------------------------------------------------------\u001b[0m",
      "\u001b[1;31mNameError\u001b[0m                                 Traceback (most recent call last)",
      "\u001b[1;32mc:\\Users\\blayl_depgywe\\BB_python\\Herbie\\notebooks\\issues\\94_put_subset_hash_at_end_of_filename.ipynb Cell 8\u001b[0m in \u001b[0;36m<cell line: 1>\u001b[1;34m()\u001b[0m\n\u001b[1;32m----> <a href='vscode-notebook-cell:/c%3A/Users/blayl_depgywe/BB_python/Herbie/notebooks/issues/94_put_subset_hash_at_end_of_filename.ipynb#X15sZmlsZQ%3D%3D?line=0'>1</a>\u001b[0m \u001b[39mdir\u001b[39m(H)\n",
      "\u001b[1;31mNameError\u001b[0m: name 'H' is not defined"
     ]
    }
   ],
   "source": [
    "dir(H)"
   ]
  },
  {
   "cell_type": "code",
   "execution_count": 7,
   "metadata": {},
   "outputs": [
    {
     "name": "stdout",
     "output_type": "stream",
     "text": [
      "✅ Found ┊ model=ecmwf ┊ \u001b[3mproduct=oper\u001b[0m ┊ \u001b[38;2;41;130;13m2022-Aug-01 00:00 UTC\u001b[92m F03\u001b[0m ┊ \u001b[38;2;255;153;0m\u001b[3mGRIB2 @ azure\u001b[0m ┊ \u001b[38;2;255;153;0m\u001b[3mIDX @ azure\u001b[0m\n"
     ]
    },
    {
     "name": "stderr",
     "output_type": "stream",
     "text": [
      "C:\\Users\\blayl_depgywe\\BB_python\\Herbie\\herbie\\archive.py:999: UserWarning: sorry, on windows I couldn't remove the file.\n",
      "  causes an exception to be raised; on Unix, the directory\n"
     ]
    },
    {
     "data": {
      "text/plain": [
       "WindowsPath('C:/Users/blayl_depgywe/data/ecmwf/20220801/subset_511533a6__20220801000000-3h-oper-fc.grib2')"
      ]
     },
     "execution_count": 7,
     "metadata": {},
     "output_type": "execute_result"
    }
   ],
   "source": [
    "ds = Herbie(\"2022-08-01\", model='ecmwf', fxx=3).xarray(\":msl:\")\n",
    "ds.attrs['local_grib']"
   ]
  },
  {
   "cell_type": "code",
   "execution_count": null,
   "metadata": {},
   "outputs": [],
   "source": [
    "ds = Herbie(\"2022-08-01\", model='ecmwf', fxx=3).xarray(\":msl:\")\n",
    "ds.attrs['local_grib']"
   ]
  },
  {
   "cell_type": "code",
   "execution_count": 11,
   "metadata": {},
   "outputs": [],
   "source": [
    "a = ['20220512000000-24h-oper-fc.grib2',\n",
    "'20220512000000-39h-oper-fc.grib2',\n",
    "'20220512000000-0h-oper-fc.grib2',\n",
    "'20220512000000-15h-oper-fc.grib2',\n",
    "'20220512000000-18h-oper-fc.grib2',\n",
    "'20220512000000-30h-oper-fc.grib2',\n",
    "'20220512000000-9h-oper-fc.grib2',\n",
    "'20220512000000-6h-oper-fc.grib2',\n",
    "'20220512000000-12h-oper-fc.grib2',\n",
    "'20220512000000-42h-oper-fc.grib2',\n",
    "'20220512000000-33h-oper-fc.grib2',\n",
    "'20220512000000-45h-oper-fc.grib2',\n",
    "'20220512000000-21h-oper-fc.grib2',\n",
    "'20220512000000-3h-oper-fc.grib2',\n",
    "'20220512000000-36h-oper-fc.grib2',\n",
    "'20220512000000-27h-oper-fc.grib2']"
   ]
  },
  {
   "cell_type": "code",
   "execution_count": 15,
   "metadata": {},
   "outputs": [],
   "source": [
    "a.sort()"
   ]
  },
  {
   "cell_type": "code",
   "execution_count": 16,
   "metadata": {},
   "outputs": [
    {
     "data": {
      "text/plain": [
       "['20220512000000-0h-oper-fc.grib2',\n",
       " '20220512000000-12h-oper-fc.grib2',\n",
       " '20220512000000-15h-oper-fc.grib2',\n",
       " '20220512000000-18h-oper-fc.grib2',\n",
       " '20220512000000-21h-oper-fc.grib2',\n",
       " '20220512000000-24h-oper-fc.grib2',\n",
       " '20220512000000-27h-oper-fc.grib2',\n",
       " '20220512000000-30h-oper-fc.grib2',\n",
       " '20220512000000-33h-oper-fc.grib2',\n",
       " '20220512000000-36h-oper-fc.grib2',\n",
       " '20220512000000-39h-oper-fc.grib2',\n",
       " '20220512000000-3h-oper-fc.grib2',\n",
       " '20220512000000-42h-oper-fc.grib2',\n",
       " '20220512000000-45h-oper-fc.grib2',\n",
       " '20220512000000-6h-oper-fc.grib2',\n",
       " '20220512000000-9h-oper-fc.grib2']"
      ]
     },
     "execution_count": 16,
     "metadata": {},
     "output_type": "execute_result"
    }
   ],
   "source": [
    "a"
   ]
  },
  {
   "cell_type": "code",
   "execution_count": null,
   "metadata": {},
   "outputs": [],
   "source": []
  }
 ],
 "metadata": {
  "kernelspec": {
   "display_name": "Python 3.10.2 ('herbie')",
   "language": "python",
   "name": "python3"
  },
  "language_info": {
   "codemirror_mode": {
    "name": "ipython",
    "version": 3
   },
   "file_extension": ".py",
   "mimetype": "text/x-python",
   "name": "python",
   "nbconvert_exporter": "python",
   "pygments_lexer": "ipython3",
   "version": "3.10.2"
  },
  "orig_nbformat": 4,
  "vscode": {
   "interpreter": {
    "hash": "9ac938c4ebee6be7dbeeba009b570e2a060a037819dd3910c9b38823ee1976e4"
   }
  }
 },
 "nbformat": 4,
 "nbformat_minor": 2
}
